{
  "nbformat": 4,
  "nbformat_minor": 0,
  "metadata": {
    "colab": {
      "provenance": [],
      "authorship_tag": "ABX9TyPDKW7lFuDpd3p5WTe0MGPP",
      "include_colab_link": true
    },
    "kernelspec": {
      "name": "python3",
      "display_name": "Python 3"
    },
    "language_info": {
      "name": "python"
    }
  },
  "cells": [
    {
      "cell_type": "markdown",
      "metadata": {
        "id": "view-in-github",
        "colab_type": "text"
      },
      "source": [
        "<a href=\"https://colab.research.google.com/github/cras-lab/Finance/blob/main/CoIntegration.ipynb\" target=\"_parent\"><img src=\"https://colab.research.google.com/assets/colab-badge.svg\" alt=\"Open In Colab\"/></a>"
      ]
    },
    {
      "cell_type": "markdown",
      "source": [
        "공적분 관계가 성립하는 쌍을 찾는 프로그램"
      ],
      "metadata": {
        "id": "ibSXV0XED6Gz"
      }
    },
    {
      "cell_type": "markdown",
      "source": [
        "Fiance datareader를 이용하기 위해 모듈을 설치한다."
      ],
      "metadata": {
        "id": "tD64yYe1D_NY"
      }
    },
    {
      "cell_type": "code",
      "source": [
        "pip install -q finance-datareader"
      ],
      "metadata": {
        "id": "KOIcuN1H80zK",
        "outputId": "b0320ff4-2aad-4096-9e6b-0e01bcbde20f",
        "colab": {
          "base_uri": "https://localhost:8080/"
        }
      },
      "execution_count": 1,
      "outputs": [
        {
          "output_type": "stream",
          "name": "stdout",
          "text": [
            "\u001b[?25l     \u001b[90m━━━━━━━━━━━━━━━━━━━━━━━━━━━━━━━━━━━━━━━━\u001b[0m \u001b[32m0.0/46.6 kB\u001b[0m \u001b[31m?\u001b[0m eta \u001b[36m-:--:--\u001b[0m\r\u001b[2K     \u001b[91m━━━━━━━━━━━━━━━━━━━━━━━━━━━━━━━━━━━\u001b[0m\u001b[90m╺\u001b[0m\u001b[90m━━━━\u001b[0m \u001b[32m41.0/46.6 kB\u001b[0m \u001b[31m2.0 MB/s\u001b[0m eta \u001b[36m0:00:01\u001b[0m\r\u001b[2K     \u001b[90m━━━━━━━━━━━━━━━━━━━━━━━━━━━━━━━━━━━━━━━━\u001b[0m \u001b[32m46.6/46.6 kB\u001b[0m \u001b[31m976.0 kB/s\u001b[0m eta \u001b[36m0:00:00\u001b[0m\n",
            "\u001b[?25h"
          ]
        }
      ]
    },
    {
      "cell_type": "markdown",
      "source": [
        "필요한 모듈을 임포트 한다. <BR>\n",
        "공적분 여부를 확인하기 위해 statsmodels의 coint도 임포트 한다."
      ],
      "metadata": {
        "id": "d_SuM9IbEHiI"
      }
    },
    {
      "cell_type": "code",
      "source": [
        "import numpy as np\n",
        "import pandas as pd\n",
        "import FinanceDataReader as fdr\n",
        "from statsmodels.tsa.stattools import coint"
      ],
      "metadata": {
        "id": "Vqno7l_iE822"
      },
      "execution_count": 2,
      "outputs": []
    },
    {
      "cell_type": "markdown",
      "source": [
        "읽어오려는 심볼 코드와 이름의 리스트를 작성한다."
      ],
      "metadata": {
        "id": "RwALY0OEE-yP"
      }
    },
    {
      "cell_type": "code",
      "source": [
        "names = [\"Samsung\", \"SK hynix\", \"SS Bio\", \"LG Chem\", \"SS SDI\", \"HD Motors\", \"KIA\", \"POSCO Holdings\",\"NAVER\", \"KB\", \"SS Life\", \"HanHwa Life\" ]\n",
        "tickers = [ '005930',  '000660', \"207940\", \"051910\", \"006400\", \"005380\", \"000270\", \"005490\",  \"035420\", \"105560\" , \"032830\", \"088350\"]"
      ],
      "metadata": {
        "id": "8-XyoywMFN5_"
      },
      "execution_count": 3,
      "outputs": []
    },
    {
      "cell_type": "markdown",
      "source": [
        "데이터를 저장할 데이터프레임을 정의한다."
      ],
      "metadata": {
        "id": "-xAXICNvFRYN"
      }
    },
    {
      "cell_type": "code",
      "source": [
        "df = pd.DataFrame()"
      ],
      "metadata": {
        "id": "phbQRYA9FVFh"
      },
      "execution_count": 4,
      "outputs": []
    },
    {
      "cell_type": "markdown",
      "source": [
        "데이터를 읽어 온다."
      ],
      "metadata": {
        "id": "zIfiAqyxFWNS"
      }
    },
    {
      "cell_type": "code",
      "source": [
        "for symbol in tickers:\n",
        "  df[symbol]= fdr.DataReader(symbol,\"2022-01-01\", \"2022-12-12\").Close"
      ],
      "metadata": {
        "id": "F676bAiHFZCA"
      },
      "execution_count": 5,
      "outputs": []
    },
    {
      "cell_type": "markdown",
      "source": [
        "열이 심볼 코드이면 보기 좋지 않으니, 종목이름으로 대체한다."
      ],
      "metadata": {
        "id": "e8irdo8LFaOv"
      }
    },
    {
      "cell_type": "code",
      "source": [
        "df.columns = names"
      ],
      "metadata": {
        "id": "AqZI1Lu5Ffse"
      },
      "execution_count": 6,
      "outputs": []
    },
    {
      "cell_type": "markdown",
      "source": [
        "공적분을 검정한 결과 p-값을 저장하기 위한 2차원 행렬을 생성한다.<BR>\n",
        "p-값이 0.05 이하(95%신뢰)이면 공적분이므로, 초기값은 모두 1로 한다."
      ],
      "metadata": {
        "id": "zOrsSG2HFihA"
      }
    },
    {
      "cell_type": "code",
      "source": [
        "p_values = np.ones( (len(names), len(names)) )"
      ],
      "metadata": {
        "id": "Hr6oFmGqFyLv"
      },
      "execution_count": 7,
      "outputs": []
    },
    {
      "cell_type": "markdown",
      "source": [
        "루프를 돌며, 공적분을 계산하고 그 p-값을 2차원 배열에 저장한다."
      ],
      "metadata": {
        "id": "F4WOFOEFF1Q6"
      }
    },
    {
      "cell_type": "code",
      "source": [
        "for i in range(0, len(names)):\n",
        "  for j in range(i+1, len(names)):\n",
        "    p_values[i][j] = coint( df[names[i]], df[names[j]] )[1]"
      ],
      "metadata": {
        "id": "HQX3ZLTwF8FW"
      },
      "execution_count": 8,
      "outputs": []
    },
    {
      "cell_type": "markdown",
      "source": [
        "루프를 돌며, 공적분 관계가 있으면(p < 0.05) 출력한다."
      ],
      "metadata": {
        "id": "jQRp81_1GAWC"
      }
    },
    {
      "cell_type": "code",
      "source": [
        "for i in range(0, len(names)):\n",
        "  print(\"\\n----------------------- \")\n",
        "  print(f\"{names[i]}와 공적분 관계\")\n",
        "\n",
        "  for k in range(i+1, len(names)):\n",
        "    if( p_values[i][k] < 0.05 ): #공적분 관계\n",
        "      print( f\"[ {names[k]} , {p_values[i][k]}]\", end=\" \"  )\n",
        "\n",
        "  for j in range(0, i):\n",
        "    if( p_values[j][i] < 0.05 ): #공적분 관계\n",
        "      print( f\"[ {names[j]} , {p_values[j][i] } ]\", end=\" \"   )"
      ],
      "metadata": {
        "id": "0ellkFcj88Xx"
      },
      "execution_count": null,
      "outputs": []
    }
  ]
}