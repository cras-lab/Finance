{
  "nbformat": 4,
  "nbformat_minor": 0,
  "metadata": {
    "colab": {
      "provenance": [],
      "authorship_tag": "ABX9TyOFVCdnnmy3tJVMERPN9JOC",
      "include_colab_link": true
    },
    "kernelspec": {
      "name": "python3",
      "display_name": "Python 3"
    },
    "language_info": {
      "name": "python"
    }
  },
  "cells": [
    {
      "cell_type": "markdown",
      "metadata": {
        "id": "view-in-github",
        "colab_type": "text"
      },
      "source": [
        "<a href=\"https://colab.research.google.com/github/cras-lab/Finance/blob/main/Efficient_Frontier_N_stocks.ipynb\" target=\"_parent\"><img src=\"https://colab.research.google.com/assets/colab-badge.svg\" alt=\"Open In Colab\"/></a>"
      ]
    },
    {
      "cell_type": "markdown",
      "source": [
        "N개 주식에서 최적의 포트폴리오를 구성하는 프로그램"
      ],
      "metadata": {
        "id": "Ugg_AJ4nl90W"
      }
    },
    {
      "cell_type": "markdown",
      "source": [
        "Finance data reader를 설치한다."
      ],
      "metadata": {
        "id": "QslFaGu6mIf2"
      }
    },
    {
      "cell_type": "code",
      "source": [
        "pip install -q finance-datareader"
      ],
      "metadata": {
        "id": "4Bq5nZHF451_"
      },
      "execution_count": 1,
      "outputs": []
    },
    {
      "cell_type": "markdown",
      "source": [
        "필요한 모듈을 임포트 한다."
      ],
      "metadata": {
        "id": "Er6FvNPYmPJp"
      }
    },
    {
      "cell_type": "code",
      "source": [
        "import numpy as np\n",
        "import pandas as pd\n",
        "import matplotlib.pyplot as plt\n",
        "import FinanceDataReader as fdr"
      ],
      "metadata": {
        "id": "L-A89p5emNqB"
      },
      "execution_count": 67,
      "outputs": []
    },
    {
      "cell_type": "markdown",
      "source": [
        "투자 Universe를 정의한다."
      ],
      "metadata": {
        "id": "7kZ8C25lmUfG"
      }
    },
    {
      "cell_type": "code",
      "source": [
        "names = ['SSE', 'LGE', 'Naver',  'LGChem', 'KB' ] # Company Name\n",
        "stocks = ['005930', '066570', '035420', '051910', '105560'  ] #symbol"
      ],
      "metadata": {
        "id": "xKw6SHDPmZGW"
      },
      "execution_count": 132,
      "outputs": []
    },
    {
      "cell_type": "markdown",
      "source": [
        "몇 가지 매개변수를 정의한다."
      ],
      "metadata": {
        "id": "VqgCgHv0mbzc"
      }
    },
    {
      "cell_type": "code",
      "source": [
        "SCALE_FACTOR = 250  # 연환산 계수\n",
        "NUM_SIMULATION = 20000  # 시뮬레이션 횟수"
      ],
      "metadata": {
        "id": "ggX_5Kfxme24"
      },
      "execution_count": 133,
      "outputs": []
    },
    {
      "cell_type": "markdown",
      "source": [
        "종목 시세를 받아올 데이터프레임을 선언한다."
      ],
      "metadata": {
        "id": "nCFi9Gr4mmJy"
      }
    },
    {
      "cell_type": "code",
      "source": [
        "df = pd.DataFrame()"
      ],
      "metadata": {
        "id": "xvHyc_Lzmraq"
      },
      "execution_count": 134,
      "outputs": []
    },
    {
      "cell_type": "markdown",
      "source": [
        "루프를 돌며, 주가를 읽어온다."
      ],
      "metadata": {
        "id": "2habDCFOmtrZ"
      }
    },
    {
      "cell_type": "code",
      "source": [
        "for stock in stocks:\n",
        "    df[stock] = fdr.DataReader(stock, '2019-01-01', '2022-12-31').Close"
      ],
      "metadata": {
        "id": "LPOhbIW3mwNo"
      },
      "execution_count": 135,
      "outputs": []
    },
    {
      "cell_type": "markdown",
      "source": [
        "가독성을 위해 열에 종목 이름을 넣는다."
      ],
      "metadata": {
        "id": "MFz7JG5OmyMf"
      }
    },
    {
      "cell_type": "code",
      "source": [
        "df.columns = names"
      ],
      "metadata": {
        "id": "yK6u2BDsm23-"
      },
      "execution_count": 136,
      "outputs": []
    },
    {
      "cell_type": "markdown",
      "source": [
        "일별 수익률을 구한다"
      ],
      "metadata": {
        "id": "6q7dPFTDm55P"
      }
    },
    {
      "cell_type": "code",
      "source": [
        "daily_ret = df.pct_change()"
      ],
      "metadata": {
        "id": "fd-oDxM0m8_W"
      },
      "execution_count": 137,
      "outputs": []
    },
    {
      "cell_type": "markdown",
      "source": [
        "일별수익률에 연환산 계수를 곱해, 연환산한다."
      ],
      "metadata": {
        "id": "VwPVBBFOm_0p"
      }
    },
    {
      "cell_type": "code",
      "source": [
        "annual_ret = daily_ret.mean() * SCALE_FACTOR"
      ],
      "metadata": {
        "id": "UuDTYUwXnLSU"
      },
      "execution_count": 138,
      "outputs": []
    },
    {
      "cell_type": "markdown",
      "source": [
        "모든 주식 조합에 대해 서로 공분산을 구한뒤 이 값도 연환산한다."
      ],
      "metadata": {
        "id": "rC8v3ENhnM1b"
      }
    },
    {
      "cell_type": "code",
      "source": [
        "daily_cov = daily_ret.cov() # 데이터프레임의 공분산 함수 cov() 이용\n",
        "annual_cov = daily_cov * SCALE_FACTOR # 연환산"
      ],
      "metadata": {
        "id": "qTEF6zL0nT5_"
      },
      "execution_count": 139,
      "outputs": []
    },
    {
      "cell_type": "markdown",
      "source": [
        "각 가중치에 대한 포트폴리오의 수익률, 위험, 가중치, 샤프지수를 저장할 배열 선언"
      ],
      "metadata": {
        "id": "Im9qfDwuneaG"
      }
    },
    {
      "cell_type": "code",
      "source": [
        "port_return = []  # 포트폴리오 수익률\n",
        "port_risk = []  # 포트폴리오 위험\n",
        "port_weights = [] # 포트폴리오 가중치\n",
        "port_sharpe = []  # 포트폴리오 샤프지수"
      ],
      "metadata": {
        "id": "RzoJpU9_ngdf"
      },
      "execution_count": 140,
      "outputs": []
    },
    {
      "cell_type": "markdown",
      "source": [
        "시뮬레이션 횟수만큼 루프를 돌며, 임의의 가중치에 대해 계산"
      ],
      "metadata": {
        "id": "nGEoCvZQnvK9"
      }
    },
    {
      "cell_type": "code",
      "source": [
        "for i in range(NUM_SIMULATION):\n",
        "  weights =np.random.random( len(names) ) # 종목만크 임의의 가중치 생성\n",
        "  weights /= np.sum(weights)  # 가중치의 합은 1이 되도록 조정\n",
        "\n",
        "  ret = np.dot( weights, annual_ret ) # 현 가중치에 해당하는 포트폴리오 수익률 Rp = SUM( WiRi )\n",
        "  risk = np.sqrt( np.dot( weights.T, np.dot(annual_cov, weights ) ) ) # 리스크 = SUM(SUM( WiWjCov(i,j)))\n",
        "  sharpe = ret/risk     # 현 구성에 해당하는 샤프지수 계산\n",
        "  # 계산한 값들을 배열에 추가\n",
        "  port_return.append( ret )\n",
        "  port_risk.append( risk )\n",
        "  port_sharpe.append( ret / risk )\n",
        "  port_weights.append( weights )"
      ],
      "metadata": {
        "id": "z7hSmjFIn_dB"
      },
      "execution_count": 141,
      "outputs": []
    },
    {
      "cell_type": "markdown",
      "source": [
        "배열 전체에서 가장 높은 샤프지수를 가진 index를 찾는다."
      ],
      "metadata": {
        "id": "fOllJsUIoo3O"
      }
    },
    {
      "cell_type": "code",
      "source": [
        "max_index = port_sharpe.index(max(port_sharpe))"
      ],
      "metadata": {
        "id": "Vaq6677Pos4a"
      },
      "execution_count": 142,
      "outputs": []
    },
    {
      "cell_type": "markdown",
      "source": [
        "배열 전체에서 가장 낮은 리스크를 가진 index를 찾는다."
      ],
      "metadata": {
        "id": "EpMIdFTJoug4"
      }
    },
    {
      "cell_type": "code",
      "source": [
        "min_index = port_risk.index(min(port_risk))"
      ],
      "metadata": {
        "id": "sPB8jbeFo0PX"
      },
      "execution_count": 143,
      "outputs": []
    },
    {
      "cell_type": "markdown",
      "source": [
        "이제 해당 포트폴리오를 도식화 해 본다."
      ],
      "metadata": {
        "id": "Wy9uuIZZo2Id"
      }
    },
    {
      "cell_type": "code",
      "execution_count": null,
      "metadata": {
        "id": "XRhrBljP4wHN"
      },
      "outputs": [],
      "source": [
        "import matplotlib.pyplot as plt\n",
        "\n",
        "plt.figure(figsize=(8, 8))\n",
        "ax = plt.subplot( )\n",
        "\n",
        "ax.set_xlabel('Risk')\n",
        "ax.set_ylabel('Return')\n",
        "plt.scatter( port_risk, port_return, c=port_sharpe, cmap='viridis', edgecolors='k' ) # k는 검은색을 의미한다.\n",
        "\n",
        "plt.scatter(x=port_risk[max_index], y=port_return[max_index], c='r', marker='X', s=200)\n",
        "plt.annotate( f'{names}\\n{[f\"{x:.2f}\" for x in port_weights[max_index]]}\\n MAX SHARPE = {port_sharpe[max_index]:.2f}', (port_risk[max_index], port_return[max_index]), xytext=(-140,25), textcoords='offset points')\n",
        "\n",
        "plt.scatter(x=port_risk[min_index], y=port_return[min_index], c='r', marker='X', s=200)\n",
        "plt.annotate( f'{names}\\n{[f\"{x:.2f}\" for x in port_weights[min_index]]}\\nMIN RISK /w SHARPE = {port_sharpe[min_index]:.2f}', (port_risk[min_index], port_return[min_index]), xytext=(-180,-10), textcoords='offset points')\n",
        "\n",
        "colorbar = plt.colorbar()\n",
        "colorbar.set_label(\"Sharpe Ratio\")\n"
      ]
    }
  ]
}