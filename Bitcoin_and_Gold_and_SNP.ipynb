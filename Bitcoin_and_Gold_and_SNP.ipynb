{
  "nbformat": 4,
  "nbformat_minor": 0,
  "metadata": {
    "colab": {
      "provenance": [],
      "authorship_tag": "ABX9TyNPH50wzvdV97xRGOl/xYL2",
      "include_colab_link": true
    },
    "kernelspec": {
      "name": "python3",
      "display_name": "Python 3"
    },
    "language_info": {
      "name": "python"
    }
  },
  "cells": [
    {
      "cell_type": "markdown",
      "metadata": {
        "id": "view-in-github",
        "colab_type": "text"
      },
      "source": [
        "<a href=\"https://colab.research.google.com/github/cras-lab/Finance/blob/main/Bitcoin_and_Gold_and_SNP.ipynb\" target=\"_parent\"><img src=\"https://colab.research.google.com/assets/colab-badge.svg\" alt=\"Open In Colab\"/></a>"
      ]
    },
    {
      "cell_type": "markdown",
      "source": [
        "필요한 모듈을 불러온다.\n",
        "\n"
      ],
      "metadata": {
        "id": "KOqa0OFkUM_b"
      }
    },
    {
      "cell_type": "code",
      "source": [
        "import yfinance as yf\n",
        "import matplotlib.pyplot as plt\n",
        "import numpy as np"
      ],
      "metadata": {
        "id": "u9m1-5LjUX9B"
      },
      "execution_count": 7,
      "outputs": []
    },
    {
      "cell_type": "markdown",
      "source": [
        "데이터를 검색할 기간을 설정한다."
      ],
      "metadata": {
        "id": "tsileLTvUkwc"
      }
    },
    {
      "cell_type": "code",
      "source": [
        "start = '2018-01-01'\n",
        "end = '2023-12-31'"
      ],
      "metadata": {
        "id": "pfGoIq8hUjYL"
      },
      "execution_count": 8,
      "outputs": []
    },
    {
      "cell_type": "markdown",
      "source": [
        "Yahoo finance에서 필요한 데이터를 불러온다."
      ],
      "metadata": {
        "id": "vg20zZtnUbrR"
      }
    },
    {
      "cell_type": "code",
      "source": [
        "bitcoin_data = yf.download('BTC-USD', start=start, end=end)\n",
        "gold_data = yf.download('GC=F',start=start, end=end)\n",
        "sp500_data = yf.download('^GSPC', start=start, end=end)"
      ],
      "metadata": {
        "id": "ihOr59A2UfOT"
      },
      "execution_count": null,
      "outputs": []
    },
    {
      "cell_type": "markdown",
      "source": [
        "종가를 기준으로 계산하기 위해 데이터에서 종가를 추출한다."
      ],
      "metadata": {
        "id": "P4RSRUTDU5qf"
      }
    },
    {
      "cell_type": "code",
      "source": [
        "bitcoin_close = bitcoin_data['Close']\n",
        "gold_close = gold_data['Close']\n",
        "sp500_close = sp500_data['Close']"
      ],
      "metadata": {
        "id": "SAdO8IMhVDRt"
      },
      "execution_count": 10,
      "outputs": []
    },
    {
      "cell_type": "markdown",
      "source": [
        "비트코인, 금, S&P 500 지수의 월간 수익률을 계산한다."
      ],
      "metadata": {
        "id": "f4zyL8G2VLk9"
      }
    },
    {
      "cell_type": "code",
      "source": [
        "bitcoin_returns = bitcoin_close.resample('M').ffill().pct_change() * 100\n",
        "gold_returns = gold_close.resample('M').ffill().pct_change() * 100\n",
        "sp500_returns = sp500_close.resample('M').ffill().pct_change() * 100"
      ],
      "metadata": {
        "id": "4_VrR9MPVPLN"
      },
      "execution_count": 11,
      "outputs": []
    },
    {
      "cell_type": "markdown",
      "source": [
        "그래프를 그려본다."
      ],
      "metadata": {
        "id": "A-ErlLo7VRCJ"
      }
    },
    {
      "cell_type": "code",
      "source": [
        "# 그래프 (금 vs 비트코인)\n",
        "plt.figure(figsize=(10, 6))\n",
        "plt.plot(gold_returns.index, gold_returns, marker='o', label='Gold')\n",
        "plt.plot(bitcoin_returns.index, bitcoin_returns, marker='s', label='Bitcoin')\n",
        "plt.title('Gold vs. Bitcoin Monthly Returns (2018-2023)')\n",
        "plt.xlabel('Date')\n",
        "plt.ylabel('Monthly Return (%)')\n",
        "plt.legend()\n",
        "plt.grid(True)\n",
        "plt.show()\n",
        "\n",
        "# 그래프 (S&P 500 vs 비트코인)\n",
        "plt.figure(figsize=(10, 6))\n",
        "plt.plot(sp500_returns.index, sp500_returns, marker='o', label='S&P 500')\n",
        "plt.plot(bitcoin_returns.index, bitcoin_returns, marker='s', label='Bitcoin')\n",
        "plt.title('S&P 500 vs. Bitcoin Monthly Returns (2018-2023)')\n",
        "plt.xlabel('Date')\n",
        "plt.ylabel('Monthly Return (%)')\n",
        "plt.legend()\n",
        "plt.grid(True)\n",
        "plt.show()"
      ],
      "metadata": {
        "id": "lf4wd-d0VT_B"
      },
      "execution_count": null,
      "outputs": []
    },
    {
      "cell_type": "markdown",
      "source": [
        "각각의 상관관계 지수를 계산하고 출력한다."
      ],
      "metadata": {
        "id": "2NHEHbU8VXf4"
      }
    },
    {
      "cell_type": "code",
      "execution_count": null,
      "metadata": {
        "id": "WZD4x2M-Q7Mv"
      },
      "outputs": [],
      "source": [
        "correlation_bitcoin_gold = np.corrcoef(bitcoin_returns.dropna(), gold_returns.dropna())[0, 1]\n",
        "correlation_bitcoin_sp500 = np.corrcoef(bitcoin_returns.dropna(), sp500_returns.dropna())[0, 1]\n",
        "correlation_gold_sp500 = np.corrcoef(gold_returns.dropna(), sp500_returns.dropna())[0, 1]\n",
        "print(\"비트코인과 금의 상관관계 지수:\", correlation_bitcoin_gold)\n",
        "print(\"비트코인과 S&P 500의 상관관계 지수:\", correlation_bitcoin_sp500)\n",
        "print(\"금과 S&P 500의 상관관계 지수:\", correlation_gold_sp500)\n"
      ]
    }
  ]
}