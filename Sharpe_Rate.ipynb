{
  "nbformat": 4,
  "nbformat_minor": 0,
  "metadata": {
    "colab": {
      "provenance": [],
      "authorship_tag": "ABX9TyMnJFWPWTw2zq5ls4f3KEui",
      "include_colab_link": true
    },
    "kernelspec": {
      "name": "python3",
      "display_name": "Python 3"
    },
    "language_info": {
      "name": "python"
    }
  },
  "cells": [
    {
      "cell_type": "markdown",
      "metadata": {
        "id": "view-in-github",
        "colab_type": "text"
      },
      "source": [
        "<a href=\"https://colab.research.google.com/github/cras-lab/Finance/blob/main/Sharpe_Rate.ipynb\" target=\"_parent\"><img src=\"https://colab.research.google.com/assets/colab-badge.svg\" alt=\"Open In Colab\"/></a>"
      ]
    },
    {
      "cell_type": "markdown",
      "source": [
        "샤프지수 = (포트폴리오 수익률 - 무위험금리)/포트폴리오 변동성<BR>\n",
        "샤프지수를 함수로 작성하여, 주식과 주가지수 그룹에 대해 구해본다.<BR>\n",
        "우선 Finance Data Reader를 설치한다."
      ],
      "metadata": {
        "id": "1wv1yazaA3LC"
      }
    },
    {
      "cell_type": "code",
      "source": [
        "pip install -q finance-datareader"
      ],
      "metadata": {
        "id": "iJg7kbbp3Cnf"
      },
      "execution_count": null,
      "outputs": []
    },
    {
      "cell_type": "markdown",
      "source": [
        "필요한 모듈을 임포트 한다."
      ],
      "metadata": {
        "id": "jBumZbwBFOmw"
      }
    },
    {
      "cell_type": "code",
      "source": [
        "import FinanceDataReader as fdr\n",
        "import pandas as pd\n",
        "import numpy as np"
      ],
      "metadata": {
        "id": "hXA8PxmlBEe2"
      },
      "execution_count": 3,
      "outputs": []
    },
    {
      "cell_type": "markdown",
      "source": [
        "관심있는 주식의 목록과 회사명을 작성한다."
      ],
      "metadata": {
        "id": "7Qg4Bc4WFQtk"
      }
    },
    {
      "cell_type": "code",
      "source": [
        "stocks = ['005930', '066570', '035420', '051910', '017670' ] #symbol\n",
        "names = ['Samsung', 'LGE',    'Naver', 'LG-Chem', 'SK-Tel'] # Name"
      ],
      "metadata": {
        "id": "fYrEyVGmOijl"
      },
      "execution_count": 4,
      "outputs": []
    },
    {
      "cell_type": "markdown",
      "source": [
        "샤프를 검색할 기간을 설정한다."
      ],
      "metadata": {
        "id": "VH4oK6H0OlVc"
      }
    },
    {
      "cell_type": "code",
      "source": [
        "start = \"2015-01-01\"\n",
        "end = \"2022-12-31\""
      ],
      "metadata": {
        "id": "fO8wu6NNOoNr"
      },
      "execution_count": 5,
      "outputs": []
    },
    {
      "cell_type": "markdown",
      "source": [
        "연납화를 하기 위한 factor를 설정한다. 미국은 통상 252로 설정한다."
      ],
      "metadata": {
        "id": "gimY9tkMOpzo"
      }
    },
    {
      "cell_type": "code",
      "source": [
        "SCALE_FACTOR = 252"
      ],
      "metadata": {
        "id": "D3fT-H72Oxlb"
      },
      "execution_count": 6,
      "outputs": []
    },
    {
      "cell_type": "markdown",
      "source": [
        "무위험 금리를 설정한다."
      ],
      "metadata": {
        "id": "UADQxW9DOzRj"
      }
    },
    {
      "cell_type": "code",
      "source": [
        "RISKFREE = 0.01"
      ],
      "metadata": {
        "id": "IF6KkDIsO1gZ"
      },
      "execution_count": 7,
      "outputs": []
    },
    {
      "cell_type": "markdown",
      "source": [
        "샤프지수를 구하는 함수를 정의한다.<BR>\n",
        "전체기간을 연간으로 나누어 연간 샤프지수를 구하는 함수와 전체기간을 고려한 샤프지수를 구하는 2가지 기능을 가지며, 각각 'Y'와 'A'로 구분한다.\n",
        "\n"
      ],
      "metadata": {
        "id": "0zUiLmG5O3Uu"
      }
    },
    {
      "cell_type": "code",
      "source": [
        "def GetSharpe( d_ret , columns, freq='Y', riskfree=0):\n",
        "  if freq == 'Y' :  # Annual Sharpe\n",
        "    a_sharpe = pd.DataFrame()\n",
        "    a_ret = pd.DataFrame()\n",
        "    a_std = pd.DataFrame()\n",
        "\n",
        "    for stock in columns:\n",
        "      a_ret[stock] = d_ret[stock].resample('YE').mean() * SCALE_FACTOR\n",
        "      a_std[stock] = d_ret[stock].resample('YE').std()*np.sqrt(SCALE_FACTOR)\n",
        "      a_sharpe = (a_ret - riskfree) / a_std\n",
        "\n",
        "    a_sharpe.columns = columns\n",
        "    return a_sharpe\n",
        "\n",
        "  elif freq == 'H':   # Historical Sharpe\n",
        "    # Sharpe from historical data\n",
        "    avg_ret = np.zeros( len(columns))\n",
        "    avg_std = np.zeros( len(columns))\n",
        "    sharpe = np.zeros( len(columns))\n",
        "\n",
        "    for i, stock in enumerate(columns):\n",
        "      avg_ret[i] = d_ret[stock].mean() * SCALE_FACTOR\n",
        "      avg_std[i] = d_ret[stock].std() * np.sqrt(SCALE_FACTOR)\n",
        "      sharpe[i] = (avg_ret[i] - riskfree)/ avg_std[i]\n",
        "\n",
        "    return sharpe, avg_ret, avg_std"
      ],
      "metadata": {
        "id": "TGB6fxFOPKUu"
      },
      "execution_count": 23,
      "outputs": []
    },
    {
      "cell_type": "markdown",
      "source": [
        "주가와 일별 수익률을 저장할 데이터프레임을 설정한다."
      ],
      "metadata": {
        "id": "ITIBzQlJPa5Y"
      }
    },
    {
      "cell_type": "code",
      "source": [
        "df = pd.DataFrame()\n",
        "daily_r = pd.DataFrame()"
      ],
      "metadata": {
        "id": "1KZzmQCwPgwn"
      },
      "execution_count": 24,
      "outputs": []
    },
    {
      "cell_type": "markdown",
      "source": [
        "주가를 읽어오면서, 일별 수익률을 계산하여 저장한다."
      ],
      "metadata": {
        "id": "TA0sBo5RPjLm"
      }
    },
    {
      "cell_type": "code",
      "source": [
        "for stock in stocks:\n",
        "  df[stock] = fdr.DataReader( stock, start, end ).Close\n",
        "  daily_r[stock] = df[stock].pct_change()"
      ],
      "metadata": {
        "id": "ZUpeCfenPo6J"
      },
      "execution_count": 25,
      "outputs": []
    },
    {
      "cell_type": "markdown",
      "source": [
        "가독성을 위해, 티커 번호 대신 회사명으로 열을 대체한다."
      ],
      "metadata": {
        "id": "mHlpVVxoPteJ"
      }
    },
    {
      "cell_type": "code",
      "source": [
        "df.columns = names\n",
        "daily_r.columns = names"
      ],
      "metadata": {
        "id": "yhvoX6xYPyXp"
      },
      "execution_count": 27,
      "outputs": []
    },
    {
      "cell_type": "markdown",
      "source": [
        "주가의 흐름을 그래프로 살펴본다."
      ],
      "metadata": {
        "id": "TLXZVGSVP24J"
      }
    },
    {
      "cell_type": "code",
      "source": [
        "df.plot()"
      ],
      "metadata": {
        "id": "6MVU10LKP66Z"
      },
      "execution_count": null,
      "outputs": []
    },
    {
      "cell_type": "markdown",
      "source": [
        "수익률의 변화도 살펴본다."
      ],
      "metadata": {
        "id": "TNdFe_MdQNAu"
      }
    },
    {
      "cell_type": "code",
      "source": [
        "daily_r.plot()"
      ],
      "metadata": {
        "id": "NosuefHNQRAc"
      },
      "execution_count": null,
      "outputs": []
    },
    {
      "cell_type": "markdown",
      "source": [
        "먼저 연간 샤프지수를 구해본다."
      ],
      "metadata": {
        "id": "29QpQAdfQZaN"
      }
    },
    {
      "cell_type": "code",
      "source": [
        "y_sharpe = GetSharpe( daily_r, names, 'Y', RISKFREE)"
      ],
      "metadata": {
        "id": "wyCng0LbQdgj"
      },
      "execution_count": 30,
      "outputs": []
    },
    {
      "cell_type": "markdown",
      "source": [
        "샤프지수를 출력해 본다."
      ],
      "metadata": {
        "id": "2BANsTmNqKzf"
      }
    },
    {
      "cell_type": "code",
      "source": [
        "print( y_sharpe )"
      ],
      "metadata": {
        "id": "lMpWsnt_qM6U"
      },
      "execution_count": null,
      "outputs": []
    },
    {
      "cell_type": "markdown",
      "source": [
        "통계량을 출력해 본다."
      ],
      "metadata": {
        "id": "dcYNGlqpqb6e"
      }
    },
    {
      "cell_type": "code",
      "source": [
        "y_sharpe.describe()"
      ],
      "metadata": {
        "id": "P7281qXDqeAx"
      },
      "execution_count": null,
      "outputs": []
    },
    {
      "cell_type": "markdown",
      "source": [
        "연간변화를 그래프로 그려본다."
      ],
      "metadata": {
        "id": "XdG7Aoh6QhGl"
      }
    },
    {
      "cell_type": "code",
      "source": [
        "y_sharpe.plot()"
      ],
      "metadata": {
        "id": "UPeGxJykQjav"
      },
      "execution_count": null,
      "outputs": []
    },
    {
      "cell_type": "markdown",
      "source": [
        "과거 18년간의 누적  데이터에 근거한 연간 샤프지수를 구해 본다."
      ],
      "metadata": {
        "id": "sgYdbS7YTFBL"
      }
    },
    {
      "cell_type": "code",
      "source": [
        "h_sharpe, h_ret, h_std = GetSharpe( daily_r, names, 'H', RISKFREE)"
      ],
      "metadata": {
        "id": "JuApLS8VTYiU"
      },
      "execution_count": 34,
      "outputs": []
    },
    {
      "cell_type": "markdown",
      "source": [
        "18년간 누적 데이터에 기반한 연평균 표준편차와 수익률 그리고 샤프지수를 3차원 산점도로 그려본다.<BR>X축: 샤프, Y축: 수익률, Z축: 변동성"
      ],
      "metadata": {
        "id": "cDhSFTm8Ve8u"
      }
    },
    {
      "cell_type": "code",
      "source": [
        "import matplotlib.pyplot as plt\n",
        "from mpl_toolkits.mplot3d import Axes3D\n",
        "\n",
        "# 주어진 데이터\n",
        "\n",
        "# Matplotlib에서 3D 그래프를 그리기 위한 플롯 생성\n",
        "fig = plt.figure(figsize=(10, 10))\n",
        "ax = fig.add_subplot(111, projection='3d')\n",
        "\n",
        "# 데이터를 3D 공간에 플롯하고 레이블 표시\n",
        "for i in range(len(names)):\n",
        "    ax.scatter(h_sharpe[i], h_ret[i], h_std[i], marker='o')\n",
        "    ax.text(h_sharpe[i], h_ret[i], h_std[i], f\"{names[i]}\\n({h_sharpe[i]:.2f},{h_ret[i]:.2f},{h_std[i]:.2f})\", fontsize=12, ha='center')\n",
        "\n",
        "# 축 레이블 설정\n",
        "ax.set_xlabel('Sharpe')\n",
        "ax.set_ylabel('Return')\n",
        "ax.set_zlabel('Volatility')\n",
        "\n",
        "\n",
        "# 그래프 표시\n",
        "plt.show()\n"
      ],
      "metadata": {
        "id": "A3JzHLaxVmzj"
      },
      "execution_count": null,
      "outputs": []
    },
    {
      "cell_type": "markdown",
      "source": [
        "이번에는 yfinance를 이용해 5가지 주가지수를 가지고 샤프지수를 구해 본다."
      ],
      "metadata": {
        "id": "jJVNrXmVjM50"
      }
    },
    {
      "cell_type": "code",
      "source": [
        "import yfinance as yf\n",
        "\n",
        "idx_tickers = [ \"^KS11\", \"^GSPC\" , \"^DJI\" , \"^NDX\", \"^HSI\"]\n",
        "idx_names = [ \"KOSPI\", \"S&P500\", \"Dow-Jones\" , \"Rusell2000\", \"Hang Seng\"]\n",
        "\n",
        "start_date = \"2018-01-01\"\n",
        "end_date = \"2022-12-31\"\n",
        "\n",
        "idx_df = yf.download( idx_tickers , start_date, end_date, progress=False).Close\n",
        "idx_ret = idx_df.pct_change()\n",
        "\n",
        "idx_df.columns = idx_names\n",
        "idx_ret.columns = idx_names\n",
        "\n",
        "idx_y_sharpe = GetSharpe( idx_ret, idx_names, 'Y', RISKFREE )"
      ],
      "metadata": {
        "id": "x2_2tTY7jQFo"
      },
      "execution_count": null,
      "outputs": []
    },
    {
      "cell_type": "markdown",
      "source": [
        "샤프지수를 출력해 본다."
      ],
      "metadata": {
        "id": "M66YMqe-qyaD"
      }
    },
    {
      "cell_type": "code",
      "source": [
        "print( idx_y_sharpe )"
      ],
      "metadata": {
        "id": "xZHKe1Cqq01Z",
        "outputId": "deb7aee5-c8f4-42ad-d058-542c3475a265",
        "colab": {
          "base_uri": "https://localhost:8080/"
        }
      },
      "execution_count": 44,
      "outputs": [
        {
          "output_type": "stream",
          "name": "stdout",
          "text": [
            "               KOSPI    S&P500  Dow-Jones  Rusell2000  Hang Seng\n",
            "Date                                                            \n",
            "2018-12-31 -0.312361 -0.398116  -0.802899   -1.363253  -0.056692\n",
            "2019-12-31  1.579377  1.987205   0.558106    0.567382   1.962103\n",
            "2020-12-31  0.341794  0.571383  -0.077053    1.043413   1.204691\n",
            "2021-12-31  1.339272  1.777227  -0.703421    0.232739   1.289598\n",
            "2022-12-31 -0.411574 -0.805652  -0.384693   -1.493343  -1.085706\n"
          ]
        }
      ]
    },
    {
      "cell_type": "markdown",
      "source": [
        "통계량을 출력해 본다."
      ],
      "metadata": {
        "id": "fPxrEkKKrMZe"
      }
    },
    {
      "cell_type": "code",
      "source": [
        "idx_y_sharpe.describe()"
      ],
      "metadata": {
        "id": "Q-4HGJCArOuE"
      },
      "execution_count": null,
      "outputs": []
    },
    {
      "cell_type": "markdown",
      "source": [
        "샤프지수를 도식화 해본다."
      ],
      "metadata": {
        "id": "fxVKneaxvPjn"
      }
    },
    {
      "cell_type": "code",
      "source": [
        "idx_y_sharpe.plot()"
      ],
      "metadata": {
        "id": "JxGkSOLBtaRp"
      },
      "execution_count": null,
      "outputs": []
    },
    {
      "cell_type": "markdown",
      "source": [
        "5년치 데이터의 누적 수익률, 표준편차, 샤프를 구해 본다.\n",
        "\n"
      ],
      "metadata": {
        "id": "FSS_pRMuvTIy"
      }
    },
    {
      "cell_type": "code",
      "source": [
        "idx_h_sharpe, idx_h_ret, idx_h_std = GetSharpe( idx_ret, idx_names, 'H', RISKFREE)"
      ],
      "metadata": {
        "id": "rsFLy-5YgoSk"
      },
      "execution_count": 40,
      "outputs": []
    },
    {
      "cell_type": "markdown",
      "source": [
        "adjustText를 설치한다. <BR>matplotlib 그래프에서 텍스트 라벨이 겹치지 않도록 자동으로 조정해주는 유용한 도구"
      ],
      "metadata": {
        "id": "1wVGXIO2DTBh"
      }
    },
    {
      "cell_type": "code",
      "source": [
        "pip install --q adjustText"
      ],
      "metadata": {
        "id": "CxorRzORDFul"
      },
      "execution_count": 47,
      "outputs": []
    },
    {
      "cell_type": "code",
      "source": [
        "# 주어진 데이터\n",
        "from mpl_toolkits.mplot3d import Axes3D\n",
        "import matplotlib.pyplot as plt\n",
        "from adjustText import adjust_text\n",
        "\n",
        "# Matplotlib에서 3D 그래프를 그리기 위한 플롯 생성\n",
        "fig = plt.figure(figsize=(10, 10))\n",
        "ax = fig.add_subplot(111, projection='3d')  # (111) = (행,열. 인덱스)\n",
        "\n",
        "for i in range(len(idx_names)):\n",
        "    ax.scatter( idx_h_sharpe[i], idx_h_ret[i],idx_h_std[i], marker='o')\n",
        "    ax.text( idx_h_sharpe[i], idx_h_ret[i], idx_h_std[i],   f\"{idx_names[i]}\\n({idx_h_sharpe[i]:.2f},{idx_h_ret[i]:.2f},{idx_h_std[i]:.2f})\", fontsize=12, ha='center')\n",
        "\n",
        "# 축 레이블 설정\n",
        "ax.set_xlabel('X: Sharpe')\n",
        "ax.set_ylabel('Y: Return')\n",
        "ax.set_zlabel('Z: Volatility')\n",
        "\n",
        "# 그래프 표시\n",
        "plt.show()"
      ],
      "metadata": {
        "id": "vXy566_Yg_X-"
      },
      "execution_count": null,
      "outputs": []
    }
  ]
}