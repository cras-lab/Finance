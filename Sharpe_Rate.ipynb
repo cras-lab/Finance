{
  "nbformat": 4,
  "nbformat_minor": 0,
  "metadata": {
    "colab": {
      "provenance": [],
      "authorship_tag": "ABX9TyO03sOYnaWwyqc9NCLyS9yT",
      "include_colab_link": true
    },
    "kernelspec": {
      "name": "python3",
      "display_name": "Python 3"
    },
    "language_info": {
      "name": "python"
    }
  },
  "cells": [
    {
      "cell_type": "markdown",
      "metadata": {
        "id": "view-in-github",
        "colab_type": "text"
      },
      "source": [
        "<a href=\"https://colab.research.google.com/github/cras-lab/Finance/blob/main/Sharpe_Rate.ipynb\" target=\"_parent\"><img src=\"https://colab.research.google.com/assets/colab-badge.svg\" alt=\"Open In Colab\"/></a>"
      ]
    },
    {
      "cell_type": "markdown",
      "source": [
        "샤프지수 = (포트폴리오 수익률 - 무위험금리)/포트폴리오 변동성<BR>\n",
        "샤프지수를 함수로 작성하여, 주식과 주가지수 그룹에 대해 구해본다.<BR>\n",
        "우선 필요한 모듈을 임포트 한다."
      ],
      "metadata": {
        "id": "1wv1yazaA3LC"
      }
    },
    {
      "cell_type": "code",
      "source": [
        "import yfinance as yf\n",
        "import pandas as pd\n",
        "import numpy as np"
      ],
      "metadata": {
        "id": "hXA8PxmlBEe2"
      },
      "execution_count": 82,
      "outputs": []
    },
    {
      "cell_type": "markdown",
      "source": [
        "Sharpe 지수를 구하는 함수를 정의한다.<BR>\n",
        "1. 인수는 symbol과 name, 시작일, 마지막일이고, name을 생략하면, symbol을 name으로 사용한다.<BR>\n",
        "2. 반환값은 샤프지수를 가진 dataframe이며, dataframe열 이름은 name list를 사용<BR>"
      ],
      "metadata": {
        "id": "D5-bA2eihSWj"
      }
    },
    {
      "cell_type": "code",
      "source": [
        "def GetSharpeRatio( tickers, names , start_date, end_date, rf=0 ):\n",
        "\n",
        "  if not names: # names에 아무것도 안들어 오면 tickers를 names로 사용\n",
        "    names = tickers\n",
        "\n",
        "  # 샤프지수 계산에 필요한 dataframe들을 준비한다.\n",
        "  df = pd.DataFrame()  # 가격\n",
        "  aRet = pd.DataFrame()  # 수익률\n",
        "  aStd = pd.DataFrame() # 표준편차\n",
        "  Sharpe = pd.DataFrame() # 샤프지수\n",
        "\n",
        "  # 목록에 있는 항목들을 하나씩 보면서 게산을 한다.\n",
        "  for index, stock in enumerate(tickers):\n",
        "    df[ names[index] ] = yf.download( stock, start=start_date, end=end_date , progress= False )[\"Adj Close\"]\n",
        "    aRet[names[index]] = df[names[index]].resample('Y').apply(lambda x: (x[-1] - x[0]) / x[0] -rf).ffill() # 연간 수익률 파악\n",
        "    ntd = df[names[index]].resample('Y').count()    # 연간 거래일 수 파악\n",
        "\n",
        "    # 일변동성을 측정한 다음, 이를 연간의 변동성으로 환산하기 위해 연간 거래일 수를 마지막에 곱한다.\n",
        "    aStd[names[index]] = df[names[index]].resample('Y').apply(lambda x: x.pct_change().std())*np.sqrt(ntd)\n",
        "    Sharpe[names[index]] = ( aRet[names[index]] - rf ) / aStd[names[index]]\n",
        "\n",
        "  return Sharpe"
      ],
      "metadata": {
        "id": "Eg73rK2Ph2Ht"
      },
      "execution_count": 83,
      "outputs": []
    },
    {
      "cell_type": "markdown",
      "source": [
        "주가를 읽어올 업체들의 symbol과 회사명을 리스트로 작성한다."
      ],
      "metadata": {
        "id": "CwuCLoTLBGcy"
      }
    },
    {
      "cell_type": "code",
      "source": [
        "stocks = ['005930.KS', '066570.KS', '003490.KS', '010950.KS', '051910.KS', '017670.KS', '000100.KS', '000087.KS', '000070.KS', '000150.KS', '000270.KS' , '057050.KS' ] #symbol\n",
        "names = ['Samsung', 'LGE', 'KAL', 'G-Cross', 'S-Oil', 'SK-Tel', 'Yoohan', 'HITE', 'Meritz', 'Doosan' , \"KIA\", \"HD-HS\"] # Name"
      ],
      "metadata": {
        "id": "pueOsGmHB0uK"
      },
      "execution_count": 84,
      "outputs": []
    },
    {
      "cell_type": "markdown",
      "source": [
        "주가를 불러올 기간을 설정한다."
      ],
      "metadata": {
        "id": "_ixz9IoUB6aU"
      }
    },
    {
      "cell_type": "code",
      "source": [
        "start_date = \"2015-1-31\"\n",
        "end_date = \"2022-12-31\""
      ],
      "metadata": {
        "id": "aS3CsiPhB9Bw"
      },
      "execution_count": 85,
      "outputs": []
    },
    {
      "cell_type": "markdown",
      "source": [
        "무위험 금리를 설정한다. 연간 1%로 설정한다."
      ],
      "metadata": {
        "id": "IVrx_PebB-yA"
      }
    },
    {
      "cell_type": "code",
      "source": [
        "RiskFree = 0.01"
      ],
      "metadata": {
        "id": "zYgYMOMkCEVc"
      },
      "execution_count": 86,
      "outputs": []
    },
    {
      "cell_type": "markdown",
      "source": [],
      "metadata": {
        "id": "KhcJ-DmLlVc1"
      }
    },
    {
      "cell_type": "code",
      "source": [
        "st_sharpe = GetSharpeRatio( stocks, names, start_date, end_date, RiskFree )\n",
        "\n",
        "print( st_sharpe  )"
      ],
      "metadata": {
        "id": "Mn0yhARbCZlv"
      },
      "execution_count": null,
      "outputs": []
    },
    {
      "cell_type": "markdown",
      "source": [
        "샤프지수를 도식화 해 본다."
      ],
      "metadata": {
        "id": "9bWheAFjCb0i"
      }
    },
    {
      "cell_type": "code",
      "execution_count": null,
      "metadata": {
        "id": "OnE8FL4j6JAd"
      },
      "outputs": [],
      "source": [
        "st_sharpe.plot()"
      ]
    },
    {
      "cell_type": "code",
      "source": [
        "st_sharpe.describe()"
      ],
      "metadata": {
        "id": "o9fsK3hBXas0"
      },
      "execution_count": null,
      "outputs": []
    },
    {
      "cell_type": "markdown",
      "source": [
        "이번에는 5가지 주가지수를 가지고 샤프지수를 구해 본다."
      ],
      "metadata": {
        "id": "jJVNrXmVjM50"
      }
    },
    {
      "cell_type": "code",
      "source": [
        "idx_tickers = [ \"^KS11\", \"^GSPC\" , \"^DJI\" , \"^RUT\" ,  \"^HSI\"]\n",
        "names = [ \"KOSPI\", \"S&P500\", \"Dow-Jones\", \"Rusell2000\",  \"Hang Seng\"]\n",
        "\n",
        "start_date = \"2015-01-01\"\n",
        "end_date = \"2022-12-31\"\n",
        "\n",
        "idx_sharpe = GetSharpeRatio( idx_tickers, names , start_date, end_date )\n",
        "\n",
        "print( idx_sharpe )"
      ],
      "metadata": {
        "id": "x2_2tTY7jQFo"
      },
      "execution_count": null,
      "outputs": []
    },
    {
      "cell_type": "markdown",
      "source": [
        "샤프지수를 도식화 해본다."
      ],
      "metadata": {
        "id": "fxVKneaxvPjn"
      }
    },
    {
      "cell_type": "code",
      "source": [
        "idx_sharpe.plot()"
      ],
      "metadata": {
        "id": "JxGkSOLBtaRp"
      },
      "execution_count": null,
      "outputs": []
    },
    {
      "cell_type": "markdown",
      "source": [
        "요약통계량을 출력해 본다."
      ],
      "metadata": {
        "id": "FSS_pRMuvTIy"
      }
    },
    {
      "cell_type": "code",
      "source": [
        "idx_sharpe.describe()"
      ],
      "metadata": {
        "id": "02v3bQ_eth9t"
      },
      "execution_count": null,
      "outputs": []
    }
  ]
}