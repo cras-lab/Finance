{
  "nbformat": 4,
  "nbformat_minor": 0,
  "metadata": {
    "colab": {
      "provenance": [],
      "authorship_tag": "ABX9TyM4xWbkLi/HjqFSHXhMkNJI",
      "include_colab_link": true
    },
    "kernelspec": {
      "name": "python3",
      "display_name": "Python 3"
    },
    "language_info": {
      "name": "python"
    }
  },
  "cells": [
    {
      "cell_type": "markdown",
      "metadata": {
        "id": "view-in-github",
        "colab_type": "text"
      },
      "source": [
        "<a href=\"https://colab.research.google.com/github/cras-lab/Finance/blob/main/Annualized_Rates.ipynb\" target=\"_parent\"><img src=\"https://colab.research.google.com/assets/colab-badge.svg\" alt=\"Open In Colab\"/></a>"
      ]
    },
    {
      "cell_type": "markdown",
      "source": [
        "\n",
        "연율화 수익률 데이터를 구하는 방법<BR>\n",
        "1. 일별 데이터를 연율화 한다.(=일별 수익률 평균을 구한다음 연율화( x 252) 한다.)<BR>\n",
        "2. 월별 데이터를 연율화 한다.(=월별 수익률 평균을 구한다음 연율화( x 12) 한다.)<BR>\n",
        "3. 연간 데이터를 그냥 사용한다.(=(연말 주가 - 연초주가)/연초주가)<BR>\n",
        "3가지 값은 모두 다르고, 통상 1번 방법을 사용한다.<BR>\n",
        "13년간 애플 주가로부터 위 3가지 방법을 통해 연환산 지수를 구해 본다."
      ],
      "metadata": {
        "id": "9lePneLGHag7"
      }
    },
    {
      "cell_type": "markdown",
      "source": [
        "필요한 모듈을 임포트 한다."
      ],
      "metadata": {
        "id": "AZUKsRebJQJI"
      }
    },
    {
      "cell_type": "code",
      "source": [
        "import yfinance as yf\n",
        "import pandas as pd\n",
        "import numpy as np"
      ],
      "metadata": {
        "id": "mGXcTMu1JTRG"
      },
      "execution_count": 1,
      "outputs": []
    },
    {
      "cell_type": "markdown",
      "source": [
        "애플 티커 심볼을 설정하고, 주가를 읽어올 기간을 설정한다."
      ],
      "metadata": {
        "id": "0GwzlCf8JUlu"
      }
    },
    {
      "cell_type": "code",
      "source": [
        "APPLE = 'AAPL'\n",
        "\n",
        "start = \"2010-01-01\"\n",
        "end = \"2022-12-31\""
      ],
      "metadata": {
        "id": "q4A7CzPLJZZR"
      },
      "execution_count": 2,
      "outputs": []
    },
    {
      "cell_type": "markdown",
      "source": [
        "애플 주가를 읽어온다."
      ],
      "metadata": {
        "id": "mREB0d7OJbjQ"
      }
    },
    {
      "cell_type": "code",
      "source": [
        "df = yf.download( APPLE, start, end, progress=False )"
      ],
      "metadata": {
        "id": "XBVOj3hsJeQL"
      },
      "execution_count": null,
      "outputs": []
    },
    {
      "cell_type": "markdown",
      "source": [
        "일별 수익률, 월별 수익률, 연간 수익률을 구해 본다."
      ],
      "metadata": {
        "id": "Ur1XwISHLTDu"
      }
    },
    {
      "cell_type": "code",
      "source": [
        "daily_return = df['Close'].pct_change()   # 일별 수익률\n",
        "monthly_return = df['Close'].resample('ME').apply(lambda x: (x.iloc[-1] - x.iloc[0]) / x.iloc[0]) #월별\n",
        "yearly_return  = df['Close'].resample('YE').apply(lambda x: (x.iloc[-1] - x.iloc[0]) / x.iloc[0]) #연간"
      ],
      "metadata": {
        "id": "wS342nu9LZTs"
      },
      "execution_count": 18,
      "outputs": []
    },
    {
      "cell_type": "markdown",
      "source": [
        "각 수익률의 평균을 구한다."
      ],
      "metadata": {
        "id": "vzJQMml1LnY2"
      }
    },
    {
      "cell_type": "code",
      "source": [
        "avg_daily_return = daily_return.mean()\n",
        "avg_monthly_return = monthly_return.mean()\n",
        "avg_yearly_return = yearly_return.mean()"
      ],
      "metadata": {
        "id": "_go7A31JLp-f"
      },
      "execution_count": 19,
      "outputs": []
    },
    {
      "cell_type": "markdown",
      "source": [
        "일별 평균과, 월별 평균의 경우 연납화를 위한 scaling factor를 곱해야 한다."
      ],
      "metadata": {
        "id": "KLs5xKxZLy71"
      }
    },
    {
      "cell_type": "code",
      "source": [
        "annual_return_from_daily = avg_daily_return * 252   # 통상적인 미국시장의 주식 영업일은 연간 252일\n",
        "annual_return_from_monthly = avg_monthly_return * 12"
      ],
      "metadata": {
        "id": "-gdqdioBL6zr"
      },
      "execution_count": 20,
      "outputs": []
    },
    {
      "cell_type": "markdown",
      "source": [
        "이제 변동성을 구해 본다.<BR>\n",
        "일반적으로 일변동을 연환산 하여 얻은 변동성이 월변동을 환산한 것 보다 더 크다. (변동이 더 많기 때문)"
      ],
      "metadata": {
        "id": "gzR3GIlcMEY0"
      }
    },
    {
      "cell_type": "code",
      "source": [
        "daily_std = daily_return.std()\n",
        "monthly_std = monthly_return.std()\n",
        "yearly_std = yearly_return.std()"
      ],
      "metadata": {
        "id": "ah3ZMjWSMYYQ"
      },
      "execution_count": 21,
      "outputs": []
    },
    {
      "cell_type": "markdown",
      "source": [
        "일별과 월별의 경우, 연납화를 위해 scaling factor를 곱해야 한다."
      ],
      "metadata": {
        "id": "0crBRYHTMa2Y"
      }
    },
    {
      "cell_type": "code",
      "source": [
        "annual_std_from_daily = daily_std * np.sqrt(252)\n",
        "annual_std_from_monthly = monthly_std * np.sqrt(12)"
      ],
      "metadata": {
        "id": "bfwQNiyuMh9Y"
      },
      "execution_count": 22,
      "outputs": []
    },
    {
      "cell_type": "markdown",
      "source": [
        "결과를 모두 출력해 본다."
      ],
      "metadata": {
        "id": "0j9mVN41MtXX"
      }
    },
    {
      "cell_type": "code",
      "source": [
        "print('-----------------------------------------------------------')\n",
        "print( f\"일별에서 연환산의 경우:  일평균: {avg_daily_return.iloc[0]:.4f} 연환산 평균 {annual_return_from_daily.iloc[0]:.2f}\")\n",
        "print( f\"월별에서 연환산의 경우:  월평균: {avg_monthly_return.iloc[0]:.4f} 연환산 평균 {annual_return_from_monthly.iloc[0]:.2f}\")\n",
        "print( f\"연 평균 수익률 {avg_yearly_return.iloc[0]:.2f}\")\n",
        "print('-----------------------------------------------------------')\n",
        "print( f\"일별 표준편차 {daily_std.iloc[0]:.4f} 연환산 표준편차 {annual_std_from_daily.iloc[0]:.2f}\" )\n",
        "print( f\"월별 표준편차 {monthly_std.iloc[0]:.4f} 연환산 표준편차 {annual_std_from_monthly.iloc[0]:.2f}\" )\n",
        "print( f\"연 평균 표준편차 {yearly_std.iloc[0]:.4f}\" )\n",
        "print('-----------------------------------------------------------')"
      ],
      "metadata": {
        "id": "JUdtK43lMxCq"
      },
      "execution_count": null,
      "outputs": []
    }
  ]
}