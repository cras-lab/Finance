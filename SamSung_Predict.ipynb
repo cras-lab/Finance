{
  "nbformat": 4,
  "nbformat_minor": 0,
  "metadata": {
    "colab": {
      "provenance": [],
      "include_colab_link": true
    },
    "kernelspec": {
      "name": "python3",
      "display_name": "Python 3"
    },
    "language_info": {
      "name": "python"
    }
  },
  "cells": [
    {
      "cell_type": "markdown",
      "metadata": {
        "id": "view-in-github",
        "colab_type": "text"
      },
      "source": [
        "<a href=\"https://colab.research.google.com/github/cras-lab/Finance/blob/main/SamSung_Predict.ipynb\" target=\"_parent\"><img src=\"https://colab.research.google.com/assets/colab-badge.svg\" alt=\"Open In Colab\"/></a>"
      ]
    },
    {
      "cell_type": "markdown",
      "source": [
        "필요한 모듈 임포트"
      ],
      "metadata": {
        "id": "yj3GiWRjDJnK"
      }
    },
    {
      "cell_type": "code",
      "source": [
        "import numpy as np\n",
        "import matplotlib.pyplot as plt\n",
        "import yfinance as yf\n",
        "from sklearn.model_selection import train_test_split"
      ],
      "metadata": {
        "id": "MSpIKIirDL2_"
      },
      "execution_count": null,
      "outputs": []
    },
    {
      "cell_type": "markdown",
      "source": [
        "삼성전자 주가 중 종가(Close)열 부분만 가져온다."
      ],
      "metadata": {
        "id": "Slk2GH_iDNVv"
      }
    },
    {
      "cell_type": "code",
      "source": [
        "df = yf.download(\"005935.KS\", start=\"2020-01-01\", end=\"2022-2-15\", progress=False).Close"
      ],
      "metadata": {
        "id": "ztsxL4EzDVO3"
      },
      "execution_count": null,
      "outputs": []
    },
    {
      "cell_type": "markdown",
      "source": [
        "훈련과 테스트 분할"
      ],
      "metadata": {
        "id": "ubdlUvrQDZiX"
      }
    },
    {
      "cell_type": "code",
      "source": [
        "y_train, y_test = train_test_split( df, shuffle=False  )\n",
        "\n",
        "X_train = np.arange(0, len(y_train) )\n",
        "X_test = np.arange( len(y_train), len(df))\n",
        "n_features = 1\n",
        "\n",
        "\n",
        "y_train = np.array( y_train )\n",
        "y_test = np.array( y_test )\n",
        "\n",
        "train_series = y_train.reshape( (len(y_train), n_features))\n",
        "test_series = y_test.reshape( (len(y_test), n_features))"
      ],
      "metadata": {
        "id": "83fhcz5iDf8n"
      },
      "execution_count": null,
      "outputs": []
    },
    {
      "cell_type": "markdown",
      "source": [
        "그래프 표시(훈련부분과 테스트 부분을 분리해서 표시)"
      ],
      "metadata": {
        "id": "cduNP7XzDiEg"
      }
    },
    {
      "cell_type": "code",
      "source": [
        "fig, ax = plt.subplots( 1,1, figsize=(15,4))\n",
        "ax.plot( X_train, y_train, lw=3, label=\"train data\")\n",
        "ax.plot(X_test, y_test, lw=3, label=\"test data\")\n",
        "ax.legend( loc=\"lower left\")\n",
        "plt.show()"
      ],
      "metadata": {
        "id": "Oy5Pg2e3Dlif"
      },
      "execution_count": null,
      "outputs": []
    },
    {
      "cell_type": "markdown",
      "source": [
        "주가를 0과 1사이의 값으로 표준화(Normalization)한 다음 그래프 표시"
      ],
      "metadata": {
        "id": "A7ZoLiQ7EFlo"
      }
    },
    {
      "cell_type": "code",
      "source": [
        "max_price = np.max( train_series )\n",
        "min_price = np.min( train_series )\n",
        "\n",
        "train_series = (train_series - min_price) / (max_price-min_price)\n",
        "test_series = (test_series - min_price) / (max_price-min_price)\n",
        "\n",
        "fig, ax = plt.subplots( 1,1, figsize=(15,4))\n",
        "ax.plot( X_train, train_series, lw=3, label=\"train data\")\n",
        "ax.plot(X_test, test_series, lw=3, label=\"test data\")\n",
        "ax.legend( loc=\"lower left\")\n",
        "plt.show()\n"
      ],
      "metadata": {
        "id": "GH5y53hZELTR"
      },
      "execution_count": null,
      "outputs": []
    },
    {
      "cell_type": "markdown",
      "source": [
        "TimeseriesGenerator 형태로 변환"
      ],
      "metadata": {
        "id": "bOVl3R1PEV-I"
      }
    },
    {
      "cell_type": "code",
      "source": [
        "from tensorflow.keras.preprocessing.sequence import TimeseriesGenerator\n",
        "look_back = 20\n",
        "\n",
        "train_generator = TimeseriesGenerator( train_series, train_series,\n",
        "                                      length=look_back,\n",
        "                                      batch_size = 10)\n",
        "\n",
        "\n",
        "test_generator = TimeseriesGenerator(test_series, test_series,\n",
        "                                     length= look_back,\n",
        "                                     batch_size=10)"
      ],
      "metadata": {
        "id": "l3CL-D3cEZYn"
      },
      "execution_count": null,
      "outputs": []
    },
    {
      "cell_type": "markdown",
      "source": [
        "LSTM 네트워크 구성"
      ],
      "metadata": {
        "id": "NmRmy_p7Ebj3"
      }
    },
    {
      "cell_type": "code",
      "source": [
        "from keras.models import Sequential\n",
        "from keras.layers import Dense, LSTM\n",
        "\n",
        "# 결과가 좋지 않으면, 여기로 돌아와서 뉴런 개수를 변경하면서 테스트 해보자(4 ==> 12 ==> 48)\n",
        "n_neurons = 4\n",
        "\n",
        "model = Sequential()\n",
        "model.add( LSTM( n_neurons, input_shape=(look_back, n_features)))\n",
        "model.add( Dense(1))\n",
        "model.compile( optimizer='adam', loss='mse')"
      ],
      "metadata": {
        "id": "poMDNL5KEfCn"
      },
      "execution_count": null,
      "outputs": []
    },
    {
      "cell_type": "markdown",
      "source": [
        "모델을 적합화 한 다음, 예측 생성"
      ],
      "metadata": {
        "id": "vEbDOljrEhxI"
      }
    },
    {
      "cell_type": "code",
      "source": [
        "model.fit( train_generator, epochs=50, verbose=0)\n",
        "\n",
        "test_prediction = model.predict( test_generator )"
      ],
      "metadata": {
        "id": "ojL6QMI3EnY4"
      },
      "execution_count": null,
      "outputs": []
    },
    {
      "cell_type": "markdown",
      "source": [
        "예측을 그래프로 표시"
      ],
      "metadata": {
        "id": "xbpNAu3VEqoY"
      }
    },
    {
      "cell_type": "code",
      "source": [
        "x= np.arange( len(df) - len(test_prediction ), len(df) )\n",
        "fig, ax= plt.subplots( 1,1, figsize=(15,5))\n",
        "ax.plot( X_test, y_test, lw=3, c='y', label='test_data')\n",
        "ax.plot( x, test_prediction*(max_price-min_price)+min_price,\\\n",
        "        lw=3, c='r', linestyle=':', label='predictions')\n",
        "ax.legend( loc='lower left')\n",
        "plt.show()\n"
      ],
      "metadata": {
        "id": "LfZ6wQO4EtkI"
      },
      "execution_count": null,
      "outputs": []
    },
    {
      "cell_type": "markdown",
      "source": [
        "결과가 좋지 않다면 앞으로 돌아가서 뉴런개수를 12,48으로 늘려가면서 변화가 있는지 관찰해 보자."
      ],
      "metadata": {
        "id": "IsfetzhIVcia"
      }
    }
  ]
}