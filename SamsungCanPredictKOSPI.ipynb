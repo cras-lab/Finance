{
  "nbformat": 4,
  "nbformat_minor": 0,
  "metadata": {
    "colab": {
      "provenance": [],
      "authorship_tag": "ABX9TyOli8PODy5QRCEJDoOhXiP8",
      "include_colab_link": true
    },
    "kernelspec": {
      "name": "python3",
      "display_name": "Python 3"
    },
    "language_info": {
      "name": "python"
    }
  },
  "cells": [
    {
      "cell_type": "markdown",
      "metadata": {
        "id": "view-in-github",
        "colab_type": "text"
      },
      "source": [
        "<a href=\"https://colab.research.google.com/github/cras-lab/Finance/blob/main/SamsungCanPredictKOSPI.ipynb\" target=\"_parent\"><img src=\"https://colab.research.google.com/assets/colab-badge.svg\" alt=\"Open In Colab\"/></a>"
      ]
    },
    {
      "cell_type": "markdown",
      "source": [
        "필요한 모듈을 임포트 한다."
      ],
      "metadata": {
        "id": "L7nhR3UbSRSK"
      }
    },
    {
      "cell_type": "code",
      "source": [
        "import pandas as pd\n",
        "import yfinance as yf\n",
        "import matplotlib.pyplot as plt\n",
        "from scipy.stats import pearsonr"
      ],
      "metadata": {
        "id": "X3VY46UxTVIB"
      },
      "execution_count": 5,
      "outputs": []
    },
    {
      "cell_type": "markdown",
      "source": [
        "데이터 수집 기간을 설정한다."
      ],
      "metadata": {
        "id": "QR7SJJz9TW0Z"
      }
    },
    {
      "cell_type": "code",
      "source": [
        "# 데이터 수집기간 설정\n",
        "start_date = '2000-01-01'\n",
        "end_date = '2023-12-31'"
      ],
      "metadata": {
        "id": "rWPcozoFTZl9"
      },
      "execution_count": 6,
      "outputs": []
    },
    {
      "cell_type": "markdown",
      "source": [
        "Yahoo finance에서 삼성전자와 KOSPI 데이터를 다운로드 한다."
      ],
      "metadata": {
        "id": "mskLF7RhTcDt"
      }
    },
    {
      "cell_type": "code",
      "source": [
        "# 삼성전자와 KOSPI 데이터 다운로드\n",
        "samsung = yf.download('005930.KS', start=start_date, end=end_date, progress=False)\n",
        "kospi = yf.download('^KS11', start=start_date, end=end_date, progress=False)"
      ],
      "metadata": {
        "id": "bnpa7HmgTjEu"
      },
      "execution_count": 18,
      "outputs": []
    },
    {
      "cell_type": "markdown",
      "source": [
        "종가만 따로 추출한다."
      ],
      "metadata": {
        "id": "XmtoxMd4TmBN"
      }
    },
    {
      "cell_type": "code",
      "source": [
        "# 필요한 열(종가)만 추출\n",
        "samsung_close = samsung['Close']\n",
        "kospi_close = kospi['Close']"
      ],
      "metadata": {
        "id": "9DGw04L-To3i"
      },
      "execution_count": 8,
      "outputs": []
    },
    {
      "cell_type": "markdown",
      "source": [
        "각각 일변화율을 추출해 별도로 보관한다."
      ],
      "metadata": {
        "id": "RQ3zYbsnTn96"
      }
    },
    {
      "cell_type": "code",
      "source": [
        "# 상승/하락 계산을 위한 일일 변화율 계산\n",
        "samsung_diff = samsung_close.pct_change().dropna()\n",
        "kospi_diff = kospi_close.pct_change().dropna()"
      ],
      "metadata": {
        "id": "xsfYI_lDTwth"
      },
      "execution_count": 9,
      "outputs": []
    },
    {
      "cell_type": "markdown",
      "source": [
        "두 변화율 데이터를 병합하여, 하나의 데이터프레임으로 만든다."
      ],
      "metadata": {
        "id": "tICVt8pwT1Lc"
      }
    },
    {
      "cell_type": "code",
      "source": [
        "# 데이터 병합\n",
        "data = pd.DataFrame({'Samsung': samsung_diff, 'KOSPI': kospi_diff}).dropna()"
      ],
      "metadata": {
        "id": "5vSSxi1tT48n"
      },
      "execution_count": 10,
      "outputs": []
    },
    {
      "cell_type": "markdown",
      "source": [
        "연도별로 상승과 하락을 분석해서, 총 동반 상승횟수와 동반 하락 횟수를 추출한다."
      ],
      "metadata": {
        "id": "XN75gu7IT8Oq"
      }
    },
    {
      "cell_type": "code",
      "source": [
        "# 연도별로 분석\n",
        "years = range(2000, 2024)\n",
        "results = []\n",
        "\n",
        "for year in years:\n",
        "    yearly_data = data[data.index.year == year]\n",
        "    if len(yearly_data) == 0:\n",
        "        continue\n",
        "\n",
        "    samsung_up = yearly_data['Samsung'] > 0\n",
        "    kospi_up = yearly_data['KOSPI'] > 0\n",
        "\n",
        "    both_up = (samsung_up & kospi_up).sum()\n",
        "    both_down = (~samsung_up & ~kospi_up).sum()\n",
        "    samsung_up_kospi_down = (samsung_up & ~kospi_up).sum()\n",
        "    samsung_down_kospi_up = (~samsung_up & kospi_up).sum()\n",
        "    total_days = len(yearly_data)\n",
        "\n",
        "    same_direction_ratio = (both_up + both_down) / total_days * 100\n",
        "    opposite_direction_ratio = (samsung_up_kospi_down + samsung_down_kospi_up) / total_days * 100\n",
        "\n",
        "    correlation, _ = pearsonr(yearly_data['Samsung'], yearly_data['KOSPI'])\n",
        "\n",
        "    results.append({\n",
        "        'Year': year,\n",
        "        'Same Direction Ratio': same_direction_ratio,\n",
        "        'Opposite Direction Ratio': opposite_direction_ratio,\n",
        "        'Pearson Correlation': correlation\n",
        "    })"
      ],
      "metadata": {
        "id": "rCYhO6OZUL3D"
      },
      "execution_count": 11,
      "outputs": []
    },
    {
      "cell_type": "markdown",
      "source": [
        "편의상 전체 결과를 데이터프레임에 저장한다."
      ],
      "metadata": {
        "id": "wjP7WYQbUWXF"
      }
    },
    {
      "cell_type": "code",
      "source": [
        "# 결과를 데이터프레임으로 변환\n",
        "results_df = pd.DataFrame(results)"
      ],
      "metadata": {
        "id": "LTeNjjdWeuMF"
      },
      "execution_count": 12,
      "outputs": []
    },
    {
      "cell_type": "markdown",
      "source": [
        "전체 기간 중 동반상승, 동반하락, 반대 움직임 등을 구분하여, 각각 저장한다."
      ],
      "metadata": {
        "id": "YMun1XNUewCB"
      }
    },
    {
      "cell_type": "code",
      "source": [
        "# 전체 기간에 대한 분석\n",
        "samsung_up = data['Samsung'] > 0\n",
        "kospi_up = data['KOSPI'] > 0\n",
        "\n",
        "both_up = (samsung_up & kospi_up).sum()\n",
        "both_down = (~samsung_up & ~kospi_up).sum()\n",
        "samsung_up_kospi_down = (samsung_up & ~kospi_up).sum()\n",
        "samsung_down_kospi_up = (~samsung_up & kospi_up).sum()\n",
        "total_days = len(data)\n",
        "\n",
        "same_direction_ratio = (both_up + both_down) / total_days * 100\n",
        "opposite_direction_ratio = (samsung_up_kospi_down + samsung_down_kospi_up) / total_days * 100\n",
        "\n",
        "correlation, _ = pearsonr(data['Samsung'], data['KOSPI'])"
      ],
      "metadata": {
        "id": "8q2hSF3_e2WE"
      },
      "execution_count": 13,
      "outputs": []
    },
    {
      "cell_type": "markdown",
      "source": [
        "방향성에 대한 비율 분석을 출력한다."
      ],
      "metadata": {
        "id": "BzqIOh2qe5iR"
      }
    },
    {
      "cell_type": "code",
      "source": [
        "# 전체 결과 출력\n",
        "print(f\"Overall Same direction ratio: {same_direction_ratio:.2f}%\")\n",
        "print(f\"Overall Opposite direction ratio: {opposite_direction_ratio:.2f}%\")\n",
        "print(f\"Overall Pearson correlation: {correlation:.2f}\")"
      ],
      "metadata": {
        "id": "04qcbD3ae8il"
      },
      "execution_count": null,
      "outputs": []
    },
    {
      "cell_type": "markdown",
      "source": [
        "각 연도별 값을 출력해 본다."
      ],
      "metadata": {
        "id": "tmttNeX2fDfK"
      }
    },
    {
      "cell_type": "code",
      "source": [
        "# 연도별 결과 출력\n",
        "print(results_df)"
      ],
      "metadata": {
        "id": "LAzZQc77fGCA"
      },
      "execution_count": null,
      "outputs": []
    },
    {
      "cell_type": "markdown",
      "source": [
        "그래프로 시각화 해본다."
      ],
      "metadata": {
        "id": "z8b6A0ytfQCs"
      }
    },
    {
      "cell_type": "code",
      "execution_count": null,
      "metadata": {
        "id": "MPcxnIFhOEQs"
      },
      "outputs": [],
      "source": [
        "# 그래프 시각화\n",
        "plt.figure(figsize=(10, 10))\n",
        "\n",
        "plt.subplot(2, 1, 1)\n",
        "plt.plot(results_df['Year'], results_df['Same Direction Ratio'], label='Same Direction Ratio')\n",
        "plt.plot(results_df['Year'], results_df['Opposite Direction Ratio'], label='Opposite Direction Ratio')\n",
        "plt.legend()\n",
        "plt.title('Yearly Movement Ratios')\n",
        "\n",
        "plt.subplot(2, 1, 2)\n",
        "plt.plot(results_df['Year'], results_df['Pearson Correlation'], label='Pearson Correlation')\n",
        "plt.legend()\n",
        "plt.title('Yearly Pearson Correlation')\n",
        "\n",
        "plt.tight_layout()\n",
        "plt.show()\n"
      ]
    }
  ]
}