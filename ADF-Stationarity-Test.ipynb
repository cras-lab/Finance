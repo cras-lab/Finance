{
  "nbformat": 4,
  "nbformat_minor": 0,
  "metadata": {
    "colab": {
      "provenance": [],
      "authorship_tag": "ABX9TyN9FXCSoLlg7eCVvAl1KACJ",
      "include_colab_link": true
    },
    "kernelspec": {
      "name": "python3",
      "display_name": "Python 3"
    },
    "language_info": {
      "name": "python"
    }
  },
  "cells": [
    {
      "cell_type": "markdown",
      "metadata": {
        "id": "view-in-github",
        "colab_type": "text"
      },
      "source": [
        "<a href=\"https://colab.research.google.com/github/cras-lab/Finance/blob/main/ADF-Stationarity-Test.ipynb\" target=\"_parent\"><img src=\"https://colab.research.google.com/assets/colab-badge.svg\" alt=\"Open In Colab\"/></a>"
      ]
    },
    {
      "cell_type": "markdown",
      "source": [
        "필요한 모듈을 임포트 한다."
      ],
      "metadata": {
        "id": "iKb-sAx3Tgkv"
      }
    },
    {
      "cell_type": "code",
      "source": [
        "import pandas as pd\n",
        "from statsmodels.tsa.stattools import adfuller, kpss\n",
        "import yfinance as yf"
      ],
      "metadata": {
        "id": "TObT8yE_Tvdb"
      },
      "execution_count": 1,
      "outputs": []
    },
    {
      "cell_type": "markdown",
      "source": [
        "Yahoo finance에서 삼성전자 주가를 읽어온다."
      ],
      "metadata": {
        "id": "5xFztTdPTySR"
      }
    },
    {
      "cell_type": "code",
      "source": [
        "symbol = '005930.KS' # 삼성전자\n",
        "df = yf.download( symbol, start='2020-01-01', end='2020-12-31',  progress=False)"
      ],
      "metadata": {
        "id": "FCWo3fnYUAPQ"
      },
      "execution_count": 2,
      "outputs": []
    },
    {
      "cell_type": "markdown",
      "source": [
        "삼성전자 주가를 도식화 해 본다."
      ],
      "metadata": {
        "id": "LrPTWyiTT5TG"
      }
    },
    {
      "cell_type": "code",
      "source": [
        "df.Close.plot()"
      ],
      "metadata": {
        "id": "WWOpd4M-UEC4"
      },
      "execution_count": null,
      "outputs": []
    },
    {
      "cell_type": "markdown",
      "source": [
        "ADF 검정의 p-값을 구해 본다."
      ],
      "metadata": {
        "id": "ZLaBpo0YUKWv"
      }
    },
    {
      "cell_type": "code",
      "source": [
        "result1 = pd.Series( adfuller(df.Close)[0:4] )\n",
        "print(\"p값=\", result1[1], \" 임계치=\", result1[0])"
      ],
      "metadata": {
        "id": "83Q0mkVBUPVP"
      },
      "execution_count": null,
      "outputs": []
    },
    {
      "cell_type": "markdown",
      "source": [
        "비정상성이라는 것이 확인되었다. 이제 차분(difference)을 통해 정상성이 생기는지 보자.<BR>\n",
        "먼저 수익률을 구하고 이를 도식화 해보자."
      ],
      "metadata": {
        "id": "ivMu1EhGUT95"
      }
    },
    {
      "cell_type": "code",
      "source": [
        "pct = df.Close.pct_change().fillna(0)\n",
        "pct.plot()"
      ],
      "metadata": {
        "id": "FzipZQ-GUajI"
      },
      "execution_count": null,
      "outputs": []
    },
    {
      "cell_type": "markdown",
      "source": [
        "수익률의 ADF-검정을 하고 p값을 구해 본다."
      ],
      "metadata": {
        "id": "sJRRre1qUh03"
      }
    },
    {
      "cell_type": "code",
      "execution_count": null,
      "metadata": {
        "id": "cU9n2P26Rkes"
      },
      "outputs": [],
      "source": [
        "result2 = pd.Series( adfuller(pct)[0:4] )\n",
        "print(\"p값=\", result2[1], \" 임계치=\", result2[0])"
      ]
    }
  ]
}