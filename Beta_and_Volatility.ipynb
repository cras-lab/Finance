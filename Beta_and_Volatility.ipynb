{
  "nbformat": 4,
  "nbformat_minor": 0,
  "metadata": {
    "colab": {
      "provenance": [],
      "authorship_tag": "ABX9TyPb2kI4VzruBV0RiBzSEr57",
      "include_colab_link": true
    },
    "kernelspec": {
      "name": "python3",
      "display_name": "Python 3"
    },
    "language_info": {
      "name": "python"
    }
  },
  "cells": [
    {
      "cell_type": "markdown",
      "metadata": {
        "id": "view-in-github",
        "colab_type": "text"
      },
      "source": [
        "<a href=\"https://colab.research.google.com/github/cras-lab/Finance/blob/main/Beta_and_Volatility.ipynb\" target=\"_parent\"><img src=\"https://colab.research.google.com/assets/colab-badge.svg\" alt=\"Open In Colab\"/></a>"
      ]
    },
    {
      "cell_type": "markdown",
      "source": [
        "선택된 종목의 시장베타와 변동성을 알아본다."
      ],
      "metadata": {
        "id": "xAEVLI95MpQb"
      }
    },
    {
      "cell_type": "markdown",
      "source": [
        "먼저 finance-datareader를 설치한다."
      ],
      "metadata": {
        "id": "Zgrh4Ut7C_4Y"
      }
    },
    {
      "cell_type": "code",
      "source": [
        "pip install -q finance-datareader"
      ],
      "metadata": {
        "id": "0t2zE1h_DCz-"
      },
      "execution_count": 71,
      "outputs": []
    },
    {
      "cell_type": "markdown",
      "source": [
        "먼저 필요한 모듈을 임포트 한다. 선형회귀를 위해 stats도 임포트 한다."
      ],
      "metadata": {
        "id": "EHpa5sPZSnqH"
      }
    },
    {
      "cell_type": "code",
      "source": [
        "import FinanceDataReader as fdr\n",
        "import pandas as pd\n",
        "import numpy as np\n",
        "from scipy import stats"
      ],
      "metadata": {
        "id": "_HI1k28GDHFj"
      },
      "execution_count": 72,
      "outputs": []
    },
    {
      "cell_type": "markdown",
      "source": [
        "불러올 종목의 리스트를 만들고, 제일 마지막에는 KOSPI지수를 불러온다."
      ],
      "metadata": {
        "id": "19mb4nXBDMCT"
      }
    },
    {
      "cell_type": "code",
      "source": [
        "names = [\"Samsung\",  \"SK hynix\", \"SS Bio\", \"LG Chem\", \"SS SDI\", \"HD Motors\", \"KIA\", \"POSCO Holdings\",\"NAVER\", \"KOSPI\"]\n",
        "tickers = [ \"005930\",  \"000660\", \"207940\", \"051910\", \"006400\", \"005380\", \"000270\", \"005490\",  \"035420\" , \"KS11\"]"
      ],
      "metadata": {
        "id": "Ug2pDCQmDUX8"
      },
      "execution_count": 73,
      "outputs": []
    },
    {
      "cell_type": "markdown",
      "source": [
        "읽어온 종목 주가를 저장할 데이터프레임을 생성한다."
      ],
      "metadata": {
        "id": "vXBRayxDDf36"
      }
    },
    {
      "cell_type": "code",
      "source": [
        "df = pd.DataFrame()"
      ],
      "metadata": {
        "id": "apVSYWtYDtz4"
      },
      "execution_count": 74,
      "outputs": []
    },
    {
      "cell_type": "markdown",
      "source": [
        "tikcers에 있는 종목을 읽어온다."
      ],
      "metadata": {
        "id": "Y8r-OFG2DxeB"
      }
    },
    {
      "cell_type": "code",
      "source": [
        "for ticker in tickers:\n",
        "  df[ticker] = fdr.DataReader( ticker, \"2022-07-01\", \"2023-08-31\").Close"
      ],
      "metadata": {
        "id": "TskRdQ6vD092"
      },
      "execution_count": 75,
      "outputs": []
    },
    {
      "cell_type": "markdown",
      "source": [
        "열을 ticker 대신 종목 이름으로 대체하여 가독성을 높인다."
      ],
      "metadata": {
        "id": "efxc8_2_D_ee"
      }
    },
    {
      "cell_type": "code",
      "source": [
        "df.columns = names"
      ],
      "metadata": {
        "id": "YQSbI74eEFLn"
      },
      "execution_count": 76,
      "outputs": []
    },
    {
      "cell_type": "markdown",
      "source": [
        "각 종목의 베타와 변동성을 저장할 배열을 선언한다.<BR>\n",
        "베타는 beta에 변동성(표준편차)은 std에 저장한다."
      ],
      "metadata": {
        "id": "_BDFdyPOEiGZ"
      }
    },
    {
      "cell_type": "code",
      "source": [
        "beta = np.zeros( len(names) - 1 )  # 마지막은 코스피 지수므로, 전체 길이에서 1을 차감\n",
        "std = np.zeros( len(names) - 1 )"
      ],
      "metadata": {
        "id": "kaYLnL3nEmu4"
      },
      "execution_count": 77,
      "outputs": []
    },
    {
      "cell_type": "markdown",
      "source": [
        "먼저 월별 수익률을 계산하고 이를 ret라는 데이터프레임에 저장한다."
      ],
      "metadata": {
        "id": "KFfnM87rTe7t"
      }
    },
    {
      "cell_type": "code",
      "source": [
        "ret = df.resample('M').apply(lambda x: (x[-1] - x[0])/x[0]).ffill()"
      ],
      "metadata": {
        "id": "a6z-0-9uTjWH"
      },
      "execution_count": 78,
      "outputs": []
    },
    {
      "cell_type": "markdown",
      "source": [
        "루프 돌면서 선형회귀를 통해 베타값을 찾고, 동시에 월 평균 변동성도 계산한다.<BR>\n",
        "Ri = b + beta*Rm + error (즉 Y = ax+ b에서 각 자산은 Y, 시장은 X)"
      ],
      "metadata": {
        "id": "FmA06152Tl1J"
      }
    },
    {
      "cell_type": "code",
      "source": [
        "for i in  range(0, len(tickers)-1):\n",
        "  beta[i], intercept, r_value, p_value, std_err = stats.linregress(ret[names[-1]], ret[names[i]])\n",
        "  std[i] = df[names[i]].pct_change().ffill().resample('M').std().mean()"
      ],
      "metadata": {
        "id": "t_bXTvM0Tslh"
      },
      "execution_count": 79,
      "outputs": []
    },
    {
      "cell_type": "markdown",
      "source": [
        "이제 도식화 해 본다."
      ],
      "metadata": {
        "id": "7Rcg8e5gTvb9"
      }
    },
    {
      "cell_type": "code",
      "source": [
        "import matplotlib.pyplot as plt\n",
        "\n",
        "plt.scatter( std, beta )\n",
        "\n",
        "# 범례 표기\n",
        "for i, name in enumerate(names[:-1]):\n",
        "    plt.annotate( f\"{name}\\n({std[i]:.3f}:{beta[i]:.3f})\" , (std[i], beta[i]), xytext=(5,-10), textcoords='offset points')\n",
        "\n",
        "# 그래프 제목과 라벨\n",
        "plt.title('Beta vs. Volatility')\n",
        "plt.xlabel('Volatility')\n",
        "plt.ylabel('Beta')\n",
        "\n",
        "plt.axhline(y=1, color='lightgray', linestyle='--')  # Beta가 1인 지점에 점선을 그린다."
      ],
      "metadata": {
        "id": "4nlHIoZOOHcd"
      },
      "execution_count": null,
      "outputs": []
    }
  ]
}