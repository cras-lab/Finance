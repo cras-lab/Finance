{
  "nbformat": 4,
  "nbformat_minor": 0,
  "metadata": {
    "colab": {
      "provenance": [],
      "authorship_tag": "ABX9TyNye8ljtitlcxnGE6fIesoS",
      "include_colab_link": true
    },
    "kernelspec": {
      "name": "python3",
      "display_name": "Python 3"
    },
    "language_info": {
      "name": "python"
    }
  },
  "cells": [
    {
      "cell_type": "markdown",
      "metadata": {
        "id": "view-in-github",
        "colab_type": "text"
      },
      "source": [
        "<a href=\"https://colab.research.google.com/github/cras-lab/Finance/blob/main/Beta_and_Volatility.ipynb\" target=\"_parent\"><img src=\"https://colab.research.google.com/assets/colab-badge.svg\" alt=\"Open In Colab\"/></a>"
      ]
    },
    {
      "cell_type": "markdown",
      "source": [
        "KOSPI200의 시가총액 상위 10개 종목의 시장베타와 변동성을 알아본다."
      ],
      "metadata": {
        "id": "xAEVLI95MpQb"
      }
    },
    {
      "cell_type": "markdown",
      "source": [
        "먼저 필요한 모듈을 임포트 한다. 선형회귀를 위해 stats도 임포트 한다."
      ],
      "metadata": {
        "id": "EHpa5sPZSnqH"
      }
    },
    {
      "cell_type": "code",
      "source": [
        "import yfinance as yf\n",
        "import pandas as pd\n",
        "import numpy as np\n",
        "from scipy import stats"
      ],
      "metadata": {
        "id": "oO3ttqPNStiY"
      },
      "execution_count": 44,
      "outputs": []
    },
    {
      "cell_type": "markdown",
      "source": [
        "KOSPI200 상위 10개 종목의 코드와 이름을 리스트로 만든다. <BR>\n",
        "마지막은 KOSPI 지수를 읽어와야 하므로, 항목은 모두 11개가 된다."
      ],
      "metadata": {
        "id": "JnaptWNLSu3X"
      }
    },
    {
      "cell_type": "code",
      "source": [
        "names = [\"Samsung\", \"LG Ensol\", \"SK hynix\", \"SS Bio\", \"LG Chem\", \"SS SDI\", \"HD Motors\", \"KIA\", \"POSCO Holding\",\"NAVER\", \"^KS11\"]\n",
        "tickers = [ \"005930.KS\",  \"373220.KS\", \"000660.KS\", \"207940.KS\", \"051910.KS\", \"006400.KS\", \"005380.KS\", \"000270.KS\", \"005490.KS\",  \"035420.KS\" , \"^KS11\"]"
      ],
      "metadata": {
        "id": "2ZWzPvqWSyxf"
      },
      "execution_count": 45,
      "outputs": []
    },
    {
      "cell_type": "markdown",
      "source": [
        "10개 종목의 베타와 변동성을 저장할 배열을 선언한다.<BR>\n",
        "베타는 slope에 변동성(표준편차)은 std에 저장한다."
      ],
      "metadata": {
        "id": "KQGbSqeJS18P"
      }
    },
    {
      "cell_type": "code",
      "source": [
        "slope = np.zeros( len(names) - 1 )\n",
        "std = np.zeros( len(names) - 1 )"
      ],
      "metadata": {
        "id": "IqLBf_JYTA9I"
      },
      "execution_count": 46,
      "outputs": []
    },
    {
      "cell_type": "markdown",
      "source": [
        "종목별 주가의 조정종가만 읽어 온다."
      ],
      "metadata": {
        "id": "IAdbfWylTMcl"
      }
    },
    {
      "cell_type": "code",
      "source": [
        "df = yf.download( tickers, \"2022-01-01\", \"2022-12-31\", progress=False)['Adj Close']"
      ],
      "metadata": {
        "id": "m07z8LlbTTX_"
      },
      "execution_count": 47,
      "outputs": []
    },
    {
      "cell_type": "markdown",
      "source": [
        "식별이 쉽도록 코드로 된 열대신 모두 종목 이름(names)으로 열을 대체한다."
      ],
      "metadata": {
        "id": "0dnUoN0bTUXW"
      }
    },
    {
      "cell_type": "code",
      "source": [
        "df.columns = names"
      ],
      "metadata": {
        "id": "Dzyaolv6Tbq-"
      },
      "execution_count": 48,
      "outputs": []
    },
    {
      "cell_type": "markdown",
      "source": [
        "먼저 월별 수익률을 계산하고 이를 ret라는 데이터프레임에 저장한다."
      ],
      "metadata": {
        "id": "KFfnM87rTe7t"
      }
    },
    {
      "cell_type": "code",
      "source": [
        "ret = df.resample('M').apply(lambda x: (x[-1] - x[0])/x[0]).ffill(axis=1)"
      ],
      "metadata": {
        "id": "a6z-0-9uTjWH"
      },
      "execution_count": 49,
      "outputs": []
    },
    {
      "cell_type": "markdown",
      "source": [
        "루프 돌면서 선형회귀를 통해 베타값을 찾고, 동시에 월 평균 변동성도 계산한다.<BR>\n",
        "Ri = b + beta*Rm + error (즉 Y = ax+ b에서 각 자산은 Y, 시장은 X)"
      ],
      "metadata": {
        "id": "FmA06152Tl1J"
      }
    },
    {
      "cell_type": "code",
      "source": [
        "for i in  range(0, len(tickers)-1):\n",
        "  slope[i], intercept, r_value, p_value, std_err = stats.linregress(ret[names[-1]], ret[names[i]])\n",
        "  std[i] = df[names[i]].pct_change().ffill().resample('M').std().mean()"
      ],
      "metadata": {
        "id": "t_bXTvM0Tslh"
      },
      "execution_count": 50,
      "outputs": []
    },
    {
      "cell_type": "markdown",
      "source": [
        "이제 도식화 해 본다."
      ],
      "metadata": {
        "id": "7Rcg8e5gTvb9"
      }
    }
  ]
}