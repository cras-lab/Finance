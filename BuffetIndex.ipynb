{
  "nbformat": 4,
  "nbformat_minor": 0,
  "metadata": {
    "colab": {
      "provenance": [],
      "authorship_tag": "ABX9TyOws+Zhh++Z77KTB2DyHDw5",
      "include_colab_link": true
    },
    "kernelspec": {
      "name": "python3",
      "display_name": "Python 3"
    },
    "language_info": {
      "name": "python"
    }
  },
  "cells": [
    {
      "cell_type": "markdown",
      "metadata": {
        "id": "view-in-github",
        "colab_type": "text"
      },
      "source": [
        "<a href=\"https://colab.research.google.com/github/cras-lab/Finance/blob/main/BuffetIndex.ipynb\" target=\"_parent\"><img src=\"https://colab.research.google.com/assets/colab-badge.svg\" alt=\"Open In Colab\"/></a>"
      ]
    },
    {
      "cell_type": "markdown",
      "source": [
        "한국 시장의 Buffer Index를 개략적으로 구해본다.<BR>\n",
        "우선 필요한 모듈을 임포트 한다."
      ],
      "metadata": {
        "id": "8xGOZVnvx7pn"
      }
    },
    {
      "cell_type": "code",
      "source": [
        "import pandas as pd\n",
        "import yfinance as yf\n",
        "import numpy as np"
      ],
      "metadata": {
        "id": "MiuQEsSSyGHE"
      },
      "execution_count": 19,
      "outputs": []
    },
    {
      "cell_type": "markdown",
      "source": [
        "KOSPI와 KOSDAQ의 yahoo finance 코드를 설정한다."
      ],
      "metadata": {
        "id": "blMrJsWNyHgZ"
      }
    },
    {
      "cell_type": "code",
      "source": [
        "KOSPI = \"^KS11\"\n",
        "KOSDAQ = \"^KQ11\"\n",
        "\n",
        "indices = [ KOSPI, KOSDAQ]"
      ],
      "metadata": {
        "id": "9WzKnyEU0oiY"
      },
      "execution_count": 20,
      "outputs": []
    },
    {
      "cell_type": "markdown",
      "source": [
        "시작과 끝 날짜를 지정한다. 2022년 주가지수를 대상으로 한다."
      ],
      "metadata": {
        "id": "WZoXeLtR0vUB"
      }
    },
    {
      "cell_type": "code",
      "source": [
        "start = \"2022-01-01\"\n",
        "end = \"2022-12-31\""
      ],
      "metadata": {
        "id": "F0YzpH7O00ay"
      },
      "execution_count": 21,
      "outputs": []
    },
    {
      "cell_type": "markdown",
      "source": [
        "버핏지수는 시가총액/GDP로 이루어진다. <BR>\n",
        "2021년 한국의 실질 GDP를 설정한다."
      ],
      "metadata": {
        "id": "Ujuam4xV02C8"
      }
    },
    {
      "cell_type": "code",
      "source": [
        "KR_2021_GDP = 1968.8  # 2021년 한국 실질 GDP (조원) , 출처: 한국은행"
      ],
      "metadata": {
        "id": "N0f7BJWd1AqJ"
      },
      "execution_count": 22,
      "outputs": []
    },
    {
      "cell_type": "markdown",
      "source": [
        "주가지수는 시가총액을 지속적으로 조정한다. 여기서는 개략적으로 simulation하므로<BR>\n",
        "연초와 연말 값을 구한 다음 이를 영업일로 나눠서 안분한 다음, 조정한다."
      ],
      "metadata": {
        "id": "ydGVoLYx1FKD"
      }
    },
    {
      "cell_type": "markdown",
      "source": [
        "KOSPI의 경우 연초에 0.739343 즉, 주가지수에 0.739343를 곱하면, 개략적인 시가 총액을 얻고 연말은 0.790214이다."
      ],
      "metadata": {
        "id": "NfA8ek_D1TMq"
      }
    },
    {
      "cell_type": "code",
      "source": [
        "KOSPI_FACTOR_START = 0.739343\n",
        "KOSPI_FACTOR_END = 0.790214"
      ],
      "metadata": {
        "id": "fFkxdwvk1fhQ"
      },
      "execution_count": 23,
      "outputs": []
    },
    {
      "cell_type": "markdown",
      "source": [
        "유사하게 코스닥 지수의 경우도 설정한다."
      ],
      "metadata": {
        "id": "g_FrF_Ew1iFZ"
      }
    },
    {
      "cell_type": "code",
      "source": [
        "KOSDAQ_FACTOR_START = 0.42725\n",
        "KOSDAQ_FACTOR_END = 0.460191"
      ],
      "metadata": {
        "id": "SjeoXiDy1lpe"
      },
      "execution_count": 24,
      "outputs": []
    },
    {
      "cell_type": "markdown",
      "source": [
        "이제 코스닥과 코스피 지수를 읽어오고 그 종가만 따로 뽑아 데이터프레임에 저장한다. 빈 날짜에는 직전 지수로 채운다."
      ],
      "metadata": {
        "id": "8rv99Z741oi_"
      }
    },
    {
      "cell_type": "code",
      "source": [
        "df = yf.download( indices, start, end, progress=False)[\"Adj Close\"].ffill()"
      ],
      "metadata": {
        "id": "7NVWrt7p1wB9"
      },
      "execution_count": 25,
      "outputs": []
    },
    {
      "cell_type": "markdown",
      "source": [
        "총 영업일이 얼마인지, 개수를 센다. 코스피와 코스닥은 동일하므로 둘 중 하나만 설정한다."
      ],
      "metadata": {
        "id": "4FiHdsc21yFm"
      }
    },
    {
      "cell_type": "code",
      "source": [
        "count = df[KOSPI].count()"
      ],
      "metadata": {
        "id": "f7C9fqao16ez"
      },
      "execution_count": 26,
      "outputs": []
    },
    {
      "cell_type": "markdown",
      "source": [
        "연초와 연말 사이를 균등 안분하여, interpolation 한다."
      ],
      "metadata": {
        "id": "z-P7Nmsn2BDZ"
      }
    },
    {
      "cell_type": "code",
      "source": [
        "KOSPI_MC_Factor = (KOSPI_FACTOR_END - KOSPI_FACTOR_START) /  count\n",
        "KOSDAQ_MC_Factor = (KOSPI_FACTOR_END - KOSPI_FACTOR_START) /  count"
      ],
      "metadata": {
        "id": "vWdGCe2j2Aqx"
      },
      "execution_count": 27,
      "outputs": []
    },
    {
      "cell_type": "markdown",
      "source": [
        "시가총액은 코스피와 코스닥을 합친 수이므로, 이 시가총액을 저장할 배열을 하나 선언한다."
      ],
      "metadata": {
        "id": "GjXPQnAk2RsR"
      }
    },
    {
      "cell_type": "code",
      "source": [
        "MarketCap = np.zeros( len(df) )"
      ],
      "metadata": {
        "id": "29joM8g82ZGc"
      },
      "execution_count": 28,
      "outputs": []
    },
    {
      "cell_type": "markdown",
      "source": [
        "이제 루프를 돌면서, 일별 시가총액을 구한 다음 MarketCap 배열에 저장한다."
      ],
      "metadata": {
        "id": "wgkywwoG2cr_"
      }
    },
    {
      "cell_type": "code",
      "source": [
        "KOSPI_factor_sum = KOSPI_FACTOR_START\n",
        "KOSDAQ_factor_sum = KOSDAQ_FACTOR_START\n",
        "\n",
        "for i in range(0, len(df)):\n",
        "  MarketCap[i] =  df[KOSPI][i] * KOSPI_factor_sum + df[KOSDAQ][i] * KOSDAQ_factor_sum\n",
        "  KOSPI_factor_sum +=  KOSPI_MC_Factor\n",
        "  KOSDAQ_factor_sum +=  KOSDAQ_MC_Factor"
      ],
      "metadata": {
        "id": "I_gwWJ9W2iW4"
      },
      "execution_count": 29,
      "outputs": []
    },
    {
      "cell_type": "markdown",
      "source": [
        "데이터 프레임에 'Bufferindex'라는 열을 하나 생성하고 버핏 지수를 저장한다."
      ],
      "metadata": {
        "id": "a5PVB1iZ2k4W"
      }
    },
    {
      "cell_type": "code",
      "source": [
        "df['BufferIndex'] = MarketCap / KR_2021_GDP"
      ],
      "metadata": {
        "id": "uqxKVANu2suJ"
      },
      "execution_count": 30,
      "outputs": []
    },
    {
      "cell_type": "markdown",
      "source": [
        "결과를 도식화 해본다."
      ],
      "metadata": {
        "id": "c5E9cPK-2vP6"
      }
    },
    {
      "cell_type": "code",
      "execution_count": null,
      "metadata": {
        "id": "yYFN4zXJku4F"
      },
      "outputs": [],
      "source": [
        "df.BufferIndex.plot()"
      ]
    }
  ]
}