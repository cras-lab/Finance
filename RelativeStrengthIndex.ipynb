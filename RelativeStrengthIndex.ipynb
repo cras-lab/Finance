{
  "nbformat": 4,
  "nbformat_minor": 0,
  "metadata": {
    "colab": {
      "provenance": [],
      "authorship_tag": "ABX9TyPljI5dAoDZ2c2TzwxiX+jC",
      "include_colab_link": true
    },
    "kernelspec": {
      "name": "python3",
      "display_name": "Python 3"
    },
    "language_info": {
      "name": "python"
    }
  },
  "cells": [
    {
      "cell_type": "markdown",
      "metadata": {
        "id": "view-in-github",
        "colab_type": "text"
      },
      "source": [
        "<a href=\"https://colab.research.google.com/github/cras-lab/Finance/blob/main/RelativeStrengthIndex.ipynb\" target=\"_parent\"><img src=\"https://colab.research.google.com/assets/colab-badge.svg\" alt=\"Open In Colab\"/></a>"
      ]
    },
    {
      "cell_type": "markdown",
      "source": [
        "삼성전자의 RSI(RelativeStrengthIndex)를 구해본다.<BR>\n",
        "먼저 필요한 모듈을 임포트 한다."
      ],
      "metadata": {
        "id": "PEHay4kGMXTI"
      }
    },
    {
      "cell_type": "code",
      "source": [
        "import yfinance as yf\n",
        "import pandas as pd\n",
        "import numpy as np"
      ],
      "metadata": {
        "id": "f0uPV_FKMjRK"
      },
      "execution_count": 48,
      "outputs": []
    },
    {
      "cell_type": "markdown",
      "source": [
        "삼성전자의 2022년 1년간의 주가 중 조정종가를 읽어와서 dataframe에 넣는다."
      ],
      "metadata": {
        "id": "hpILRoiIMn-x"
      }
    },
    {
      "cell_type": "code",
      "source": [
        "df = yf.download( \"005930.KS\" , \"2022-01-01\", \"2022-12-31\", progress=False)['Adj Close']"
      ],
      "metadata": {
        "id": "wGz7Ax-OMxtO"
      },
      "execution_count": 58,
      "outputs": []
    },
    {
      "cell_type": "markdown",
      "source": [
        "주가흐름을 그려본다."
      ],
      "metadata": {
        "id": "DP10FbCXOCnH"
      }
    },
    {
      "cell_type": "code",
      "source": [
        "df.plot()"
      ],
      "metadata": {
        "id": "oCPN6jyIOFI-"
      },
      "execution_count": null,
      "outputs": []
    },
    {
      "cell_type": "markdown",
      "source": [
        "직전일과 오늘의 가격의 차이를 구한 다음 배열에 저장한다."
      ],
      "metadata": {
        "id": "v5adhN2qM6Xp"
      }
    },
    {
      "cell_type": "code",
      "source": [
        "price_changes = np.diff( df )"
      ],
      "metadata": {
        "id": "eqegqRGANCSf"
      },
      "execution_count": 51,
      "outputs": []
    },
    {
      "cell_type": "markdown",
      "source": [
        "가격차이 중 가격이 오른날은 gain에, 가격이 내린날은 loss에 저장한다.<BR>\n",
        "gain은 가격이 오른날은 오른 가격을, 나머지 날은 모두 0으로 채운다. <BR>\n",
        "loss는 가격이 내린날은 내린 가격을, 나머지 날은 모두 0으로 채운다."
      ],
      "metadata": {
        "id": "wDVaGpyGNEuL"
      }
    },
    {
      "cell_type": "code",
      "source": [
        "gain = np.where( price_changes > 0, price_changes, 0)\n",
        "loss = np.where( price_changes < 0,  -price_changes , 0)"
      ],
      "metadata": {
        "id": "oIIenanIM4ES"
      },
      "execution_count": 52,
      "outputs": []
    },
    {
      "cell_type": "markdown",
      "source": [
        "RSI는 통상 14일 간의 상승 하락을 본다. 여기서도 기간을 14일로 설정한다."
      ],
      "metadata": {
        "id": "Qp7cm6TXNak6"
      }
    },
    {
      "cell_type": "code",
      "source": [
        "period = 14"
      ],
      "metadata": {
        "id": "aqdPVZ8GNflp"
      },
      "execution_count": 53,
      "outputs": []
    },
    {
      "cell_type": "markdown",
      "source": [
        "1년 간의 RSI 값 변화를 저장할 배열을 하나 선언한다."
      ],
      "metadata": {
        "id": "XxuGbQBmNh1G"
      }
    },
    {
      "cell_type": "code",
      "source": [
        "rsi = np.zeros( len(price_changes) - period )"
      ],
      "metadata": {
        "id": "fQwd8ymcNqlV"
      },
      "execution_count": 54,
      "outputs": []
    },
    {
      "cell_type": "markdown",
      "source": [
        "루프를 돌며, 14일의 윈도우를 슬라이딩 하며, 1년간의 RSI 변화를 계산하고, 이를 배열에 담는다."
      ],
      "metadata": {
        "id": "t9r48b95NrEY"
      }
    },
    {
      "cell_type": "code",
      "source": [
        "for i in range(0, len(price_changes) - period ):\n",
        "  avg_gain = np.mean(gain[i:period+i])\n",
        "  avg_loss = np.mean(loss[i:period+i])\n",
        "  rsi[i] = 100 - (100 / (1 + (avg_gain / avg_loss)))"
      ],
      "metadata": {
        "id": "TWeTFGVwNwv1"
      },
      "execution_count": 55,
      "outputs": []
    },
    {
      "cell_type": "markdown",
      "source": [
        "그래프로 RSI 변화를 도식화 해 본다."
      ],
      "metadata": {
        "id": "oZfIL1t2N1Pq"
      }
    },
    {
      "cell_type": "code",
      "source": [
        "import matplotlib.pyplot as plt\n",
        "x = df.index[:-period-1] # x축에는 날짜를 기록한다.\n",
        "plt.plot( x, rsi )"
      ],
      "metadata": {
        "id": "LsrBfAtON4CF"
      },
      "execution_count": null,
      "outputs": []
    }
  ]
}