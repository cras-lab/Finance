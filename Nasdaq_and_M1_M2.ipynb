{
  "nbformat": 4,
  "nbformat_minor": 0,
  "metadata": {
    "colab": {
      "provenance": [],
      "authorship_tag": "ABX9TyNpOKa2Bc5iXP/0EP1frLKO",
      "include_colab_link": true
    },
    "kernelspec": {
      "name": "python3",
      "display_name": "Python 3"
    },
    "language_info": {
      "name": "python"
    }
  },
  "cells": [
    {
      "cell_type": "markdown",
      "metadata": {
        "id": "view-in-github",
        "colab_type": "text"
      },
      "source": [
        "<a href=\"https://colab.research.google.com/github/cras-lab/Finance/blob/main/Nasdaq_and_M1_M2.ipynb\" target=\"_parent\"><img src=\"https://colab.research.google.com/assets/colab-badge.svg\" alt=\"Open In Colab\"/></a>"
      ]
    },
    {
      "cell_type": "markdown",
      "source": [
        "fiannce-datareader를 설치한다."
      ],
      "metadata": {
        "id": "zvUM35J5htSN"
      }
    },
    {
      "cell_type": "code",
      "source": [
        "pip install -q finance-datareader"
      ],
      "metadata": {
        "id": "I98mwruwOMqK"
      },
      "execution_count": 55,
      "outputs": []
    },
    {
      "cell_type": "markdown",
      "source": [
        "필요한 모듈을 임포트 한다."
      ],
      "metadata": {
        "id": "EA3Wrn1Oh0ax"
      }
    },
    {
      "cell_type": "code",
      "execution_count": 56,
      "metadata": {
        "id": "QsKYF481Mqmi"
      },
      "outputs": [],
      "source": [
        "import FinanceDataReader as fdr\n",
        "import numpy as np\n",
        "import pandas as pd"
      ]
    },
    {
      "cell_type": "markdown",
      "source": [
        "M1, M2 통화량과 나스닥 종합지수를 2005년부터 2022년까지 읽어온다."
      ],
      "metadata": {
        "id": "81QVorVLiDxd"
      }
    },
    {
      "cell_type": "code",
      "source": [
        "# M1, M2통화량과 나스닥종합지수\n",
        "df= fdr.DataReader('FRED:M1,M2, NASDAQCOM' , start=\"2005-01-01\", end=\"2022-12-31\")"
      ],
      "metadata": {
        "id": "_w67PpguiAyc"
      },
      "execution_count": 57,
      "outputs": []
    },
    {
      "cell_type": "markdown",
      "source": [
        "추세를 보기 위해 그래프를 출력해 본다."
      ],
      "metadata": {
        "id": "UZa0oka_iaxH"
      }
    },
    {
      "cell_type": "code",
      "source": [
        "df.plot()"
      ],
      "metadata": {
        "id": "YYbpQnhJidmH"
      },
      "execution_count": null,
      "outputs": []
    },
    {
      "cell_type": "markdown",
      "source": [
        "통화량과 주가 흐름의 상관관계를 구해본다."
      ],
      "metadata": {
        "id": "HFM2FaUVimPz"
      }
    },
    {
      "cell_type": "code",
      "source": [
        "M1_corr = np.corrcoef( df.M1, df.NASDAQCOM)[0][1]\n",
        "M2_corr = np.corrcoef( df.M2, df.NASDAQCOM)[0][1]\n",
        "\n",
        "print( M1_corr, M2_corr)"
      ],
      "metadata": {
        "id": "EW7YlwQnNEhk"
      },
      "execution_count": null,
      "outputs": []
    },
    {
      "cell_type": "markdown",
      "source": [
        "이 상관관계 데이터를 어디에 활용할 수 있을까?<BR>이는 Spurious Relation에 해당된다.<BR>변화량에 주목해 보자."
      ],
      "metadata": {
        "id": "qn-SxS4BSnxb"
      }
    },
    {
      "cell_type": "code",
      "source": [
        "Changes = df.pct_change().fillna(0)"
      ],
      "metadata": {
        "id": "CEKdsXooSrJ9"
      },
      "execution_count": 60,
      "outputs": []
    },
    {
      "cell_type": "markdown",
      "source": [
        "도식화 해보자."
      ],
      "metadata": {
        "id": "9xVs3Mgiko-Q"
      }
    },
    {
      "cell_type": "code",
      "source": [
        "Changes.plot()"
      ],
      "metadata": {
        "id": "8lCKRRF_jFbS"
      },
      "execution_count": null,
      "outputs": []
    },
    {
      "cell_type": "markdown",
      "source": [
        "변화량의 상관관계를 살펴보자."
      ],
      "metadata": {
        "id": "KVd94FXmjWzU"
      }
    },
    {
      "cell_type": "code",
      "source": [
        "M1_ret_corr = np.corrcoef( Changes.M1, Changes.NASDAQCOM)[0][1]\n",
        "M2_ret_corr = np.corrcoef( Changes.M2, Changes.NASDAQCOM)[0][1]\n",
        "\n",
        "print( M1_ret_corr,M2_ret_corr)"
      ],
      "metadata": {
        "id": "H5mkp5yTcJVc"
      },
      "execution_count": null,
      "outputs": []
    },
    {
      "cell_type": "markdown",
      "source": [
        "하루가 아니라 7일간 변화량의 상관관계를 살펴보자."
      ],
      "metadata": {
        "id": "97HFQ5b2jd6Q"
      }
    },
    {
      "cell_type": "code",
      "source": [
        "Changes = df.pct_change().fillna(0)"
      ],
      "metadata": {
        "id": "AgkA5kp8jo-I"
      },
      "execution_count": 63,
      "outputs": []
    },
    {
      "cell_type": "markdown",
      "source": [
        "다시 상관관계를 구해보자."
      ],
      "metadata": {
        "id": "WEQdKswbjqSN"
      }
    },
    {
      "cell_type": "code",
      "source": [
        "M1_ret_corr = np.corrcoef( Changes.M1, Changes.NASDAQCOM)[0][1]\n",
        "M2_ret_corr = np.corrcoef( Changes.M2, Changes.NASDAQCOM)[0][1]\n",
        "\n",
        "print( M1_ret_corr,M2_ret_corr)"
      ],
      "metadata": {
        "id": "dr-UVHRLjkBJ"
      },
      "execution_count": null,
      "outputs": []
    },
    {
      "cell_type": "markdown",
      "source": [
        "이제 0일부터 100일까지 windows를 넓혀가며 상관관계의 변화를 보자."
      ],
      "metadata": {
        "id": "c43VUaMrjvEf"
      }
    },
    {
      "cell_type": "markdown",
      "source": [
        "상관관계를 저장할 배열과 x축 값을 준비한다."
      ],
      "metadata": {
        "id": "09ZTCxiuj5Vd"
      }
    },
    {
      "cell_type": "code",
      "source": [
        "corr1 = np.zeros(100)\n",
        "corr2 = np.zeros(100)\n",
        "x = [i for i in range(0, 100)]"
      ],
      "metadata": {
        "id": "owVrcAs6j_VI"
      },
      "execution_count": 71,
      "outputs": []
    },
    {
      "cell_type": "markdown",
      "source": [
        "window를 넓혀가며 상관관계를 계산하고 이를 corr1, corr2에 저장하자."
      ],
      "metadata": {
        "id": "JmB13XU1kE1r"
      }
    },
    {
      "cell_type": "code",
      "source": [
        "for i in range(0, 100):\n",
        "  Changes = df.pct_change(i).fillna(0)\n",
        "  corr1[i] =  np.corrcoef( Changes.M1, Changes.NASDAQCOM)[0][1]\n",
        "  corr2[i] =  np.corrcoef( Changes.M2, Changes.NASDAQCOM)[0][1]"
      ],
      "metadata": {
        "id": "sm-4XFp5kQw6"
      },
      "execution_count": null,
      "outputs": []
    },
    {
      "cell_type": "markdown",
      "source": [
        "결과를 도식화 해보자."
      ],
      "metadata": {
        "id": "0o4ns9jDkU_G"
      }
    },
    {
      "cell_type": "code",
      "source": [
        "import matplotlib.pyplot as plt\n",
        "\n",
        "plt.plot( x, corr1, label=\"M1 corr\")\n",
        "plt.plot( x, corr2, label=\"M2 corr\")\n",
        "plt.legend()"
      ],
      "metadata": {
        "id": "DZ-Anp9PdInR"
      },
      "execution_count": null,
      "outputs": []
    }
  ]
}