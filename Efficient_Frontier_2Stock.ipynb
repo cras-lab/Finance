{
  "nbformat": 4,
  "nbformat_minor": 0,
  "metadata": {
    "colab": {
      "provenance": [],
      "authorship_tag": "ABX9TyMDCEGpZ/6TeLehMOuMMIM8",
      "include_colab_link": true
    },
    "kernelspec": {
      "name": "python3",
      "display_name": "Python 3"
    },
    "language_info": {
      "name": "python"
    }
  },
  "cells": [
    {
      "cell_type": "markdown",
      "metadata": {
        "id": "view-in-github",
        "colab_type": "text"
      },
      "source": [
        "<a href=\"https://colab.research.google.com/github/cras-lab/Finance/blob/main/Efficient_Frontier_2Stock.ipynb\" target=\"_parent\"><img src=\"https://colab.research.google.com/assets/colab-badge.svg\" alt=\"Open In Colab\"/></a>"
      ]
    },
    {
      "cell_type": "markdown",
      "source": [
        "배열을 위해 numpy를 임포트 하고, 도식화를 위해 matplotlib를 임포트 한다."
      ],
      "metadata": {
        "id": "xFVGOUKmlCEb"
      }
    },
    {
      "cell_type": "code",
      "source": [
        "import numpy as np\n",
        "import matplotlib.pyplot as plt"
      ],
      "metadata": {
        "id": "q0SRyCIplKJi"
      },
      "execution_count": 1,
      "outputs": []
    },
    {
      "cell_type": "markdown",
      "source": [
        "가상의 두 자산에 대한 변수를 설정한다.\n",
        "자산 1은 표준편차가 0.1이고, 수익률이 10%이라고 가정한다.\n",
        "자산 2는 표준편차가 0.06이고, 수익률이 5%라고 가정한다.\n",
        "두 자산 사이의 상관관계는 편의상 0.2라고 가정한다."
      ],
      "metadata": {
        "id": "Vm2-Zn47lLf6"
      }
    },
    {
      "cell_type": "code",
      "source": [
        "sigma1 = 0.1\n",
        "sigma2 = 0.06\n",
        "\n",
        "ret1 = 0.1\n",
        "ret2 = 0.05\n",
        "\n",
        "corr12 = 0.2"
      ],
      "metadata": {
        "id": "zMODruaaleOw"
      },
      "execution_count": 12,
      "outputs": []
    },
    {
      "cell_type": "markdown",
      "source": [
        "w1의 가중치를 0부터 1까지 0.1씩 증가시킨다. 즉<BR>\n",
        "0%, 10%, 20%, 30%, ..., 100%의 모두 11단계가 존재한다."
      ],
      "metadata": {
        "id": "RHB2brrmlgym"
      }
    },
    {
      "cell_type": "code",
      "source": [
        "w1 = np.arange(0, 1.01, 0.1)"
      ],
      "metadata": {
        "id": "RyhI4-1blx-T"
      },
      "execution_count": 13,
      "outputs": []
    },
    {
      "cell_type": "markdown",
      "source": [
        "각 가중치에 따라 계산한 값을 담아 둘 0 값으로 초기화 한 배열 2개를 생성<BR>\n",
        "하나는 가중치에 따른 수익률의 변화(ret), 다른 하나는 표준편차의 변화이다."
      ],
      "metadata": {
        "id": "JbCEWUJSlzkm"
      }
    },
    {
      "cell_type": "code",
      "source": [
        "ret = np.zeros( len(w1))\n",
        "sig = np.zeros( len(w1))"
      ],
      "metadata": {
        "id": "c1utW0G0mBZJ"
      },
      "execution_count": 14,
      "outputs": []
    },
    {
      "cell_type": "markdown",
      "source": [
        "루프를 돌며, 각 가중치에 따른, 수익률과 표준편차의 변화를 구하고<BR>\n",
        "이를 앞에서 생성한 두 배열인 ret와 sig에 할당한다."
      ],
      "metadata": {
        "id": "O0HCGCDKmEjZ"
      }
    },
    {
      "cell_type": "code",
      "execution_count": null,
      "metadata": {
        "id": "2WRB6417a03F"
      },
      "outputs": [],
      "source": [
        "for i in range( 0, len(w1)):\n",
        "  w2 = 1.0 - w1[i]\n",
        "  ret[i] = w1[i]*ret1 + w2*ret2\n",
        "  sig[i] = np.sqrt( (w1[i]*sigma1)**2  + (w2*sigma2)**2 + 2*w1[i]*w2*corr12*sigma1*sigma2  )\n"
      ]
    },
    {
      "cell_type": "markdown",
      "source": [
        "이제 표준편차를 x축으로, 수익률을 y축으로 해서 도식화 한다."
      ],
      "metadata": {
        "id": "BfYZi-MHmSKY"
      }
    },
    {
      "cell_type": "code",
      "source": [
        "plt.plot( sig , ret)"
      ],
      "metadata": {
        "id": "0ZdGUzHGlwGL"
      },
      "execution_count": null,
      "outputs": []
    }
  ]
}